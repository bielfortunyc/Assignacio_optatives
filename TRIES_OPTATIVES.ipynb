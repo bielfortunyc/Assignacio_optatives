{
  "cells": [
    {
      "cell_type": "markdown",
      "metadata": {
        "id": "PoXDRMjd-0nP"
      },
      "source": [
        "# **ASSIGNACIÓ D'OPTATIVES ESO I BATXILLERAT**"
      ]
    },
    {
      "cell_type": "markdown",
      "metadata": {
        "id": "gEdpkPd7C7q6"
      },
      "source": [
        "# **ACCÉS A PRIMER D'ESO**"
      ]
    },
    {
      "cell_type": "markdown",
      "source": [
        "\n",
        "Envia un fitxer amb les columnes : Nom i llinatges de l'alumne/a\\*, Primera opció\\*, Segona opció\\*, Tercera opció\\*, RELI/AE. Sense files buides ni altres elements.\n",
        "\n",
        "\\* *columnes obligatòries*"
      ],
      "metadata": {
        "id": "8csOZG-3GEH-"
      }
    },
    {
      "cell_type": "code",
      "execution_count": null,
      "metadata": {
        "id": "ki8oNgxDC7q8"
      },
      "outputs": [],
      "source": [
        "from google.colab import files\n",
        "import pandas as pd\n",
        "uploaded = files.upload()\n",
        "filename = next(iter(uploaded))\n",
        "df_eso = pd.read_csv(filename)\n",
        "print(df_eso.head())"
      ]
    },
    {
      "cell_type": "markdown",
      "metadata": {
        "id": "dYX2Nco5C7q9"
      },
      "source": [
        "### RECOMPTE"
      ]
    },
    {
      "cell_type": "code",
      "execution_count": null,
      "metadata": {
        "id": "rdVAQPczC7q9"
      },
      "outputs": [],
      "source": [
        "import ipywidgets as widgets\n",
        "from IPython.display import display, Markdown\n",
        "\n",
        "for col in df_eso.columns[3:7]:\n",
        "    display(Markdown(f\"### 📊 **Comptador de _'{col}'_**\"))\n",
        "    display(Markdown(\"```\\n\" + str(df_eso[col].value_counts()) + \"\\n```\"))"
      ]
    },
    {
      "cell_type": "markdown",
      "metadata": {
        "id": "O8kL9hgpC7q9"
      },
      "source": [
        "## ASSIGNACIÓ D'OPTATIVA"
      ]
    },
    {
      "cell_type": "markdown",
      "metadata": {
        "id": "MLoPXFxjC7q9"
      },
      "source": [
        "Tria les optatives que s'han d'assignar"
      ]
    },
    {
      "cell_type": "code",
      "execution_count": null,
      "metadata": {
        "id": "Z2PF8zSNC7q-"
      },
      "outputs": [],
      "source": [
        "valors_unics = sorted(df_eso['Primera opció'].dropna().unique())\n",
        "selector = widgets.SelectMultiple(\n",
        "    options=valors_unics,\n",
        "    description='Selecciona:',\n",
        "    layout=widgets.Layout(width='50%',height='180px'),\n",
        "    style={'description_width': 'initial'})\n",
        "display(selector)\n",
        "boto = widgets.Button(description=\"Guardar selecció\")\n",
        "\n",
        "def on_button_clicked(b):\n",
        "    global seleccio_set\n",
        "    seleccio_set = set(selector.value)\n",
        "    print(f\"\\n✅ Valors guardats\")\n",
        "\n",
        "boto.on_click(on_button_clicked)\n",
        "display(boto)"
      ]
    },
    {
      "cell_type": "code",
      "execution_count": null,
      "metadata": {
        "id": "y1dCGRNEC7q-"
      },
      "outputs": [],
      "source": [
        "from IPython.display import display, Markdown\n",
        "\n",
        "display(Markdown(\"## ✅ **ASSIGNATURES ASSIGNADES:**\"))\n",
        "for opt in sorted(seleccio_set):\n",
        "    display(Markdown(f\"- 🎓 **{opt}**\"))\n",
        "\n",
        "optatives = set(df_eso['Primera opció'].dropna().unique())\n",
        "display(Markdown(\"## ❌ **ASSIGNATURES NO ASSIGNADES:**\"))\n",
        "for opt in sorted(optatives-seleccio_set):\n",
        "    display(Markdown(f\"- 🚫 **{opt}**\"))"
      ]
    },
    {
      "cell_type": "code",
      "execution_count": null,
      "metadata": {
        "id": "J0fOFK1OC7q-"
      },
      "outputs": [],
      "source": [
        "df_eso['Optativa Assignada'] = None\n",
        "\n",
        "value_counts_primera = df_eso['Primera opció'].value_counts()\n",
        "value_counts_segona = df_eso['Segona opció'].value_counts()\n",
        "value_counts_tercera = df_eso['Tercera opció'].value_counts()\n",
        "\n",
        "index_vector = []\n",
        "optatives_si = set()\n",
        "optatives_no = set()\n",
        "for i in df_eso.index:\n",
        "    for opcio in ['Primera opció', 'Segona opció', 'Tercera opció']:\n",
        "      opt = df_eso.at[i, opcio]\n",
        "      if opt in seleccio_set:\n",
        "          df_eso.at[i, 'Optativa Assignada'] = opt\n",
        "    if df_eso.at[i, 'Optativa Assignada'] is None:\n",
        "      index_vector.append(i)\n",
        "print(\"Nombre d'alumnes sense assignar:\", len(index_vector))"
      ]
    },
    {
      "cell_type": "code",
      "execution_count": null,
      "metadata": {
        "id": "US5mq0h7C7q_"
      },
      "outputs": [],
      "source": [
        "display(Markdown(\"## **ALUMNES SENSE ASSIGNAR:**\"))\n",
        "df_primer2 = df_eso.iloc[index_vector]\n",
        "df_primer2"
      ]
    },
    {
      "cell_type": "markdown",
      "metadata": {
        "id": "6LOw4qnqC7q_"
      },
      "source": [
        "## RECOMPTE FINAL"
      ]
    },
    {
      "cell_type": "code",
      "execution_count": null,
      "metadata": {
        "id": "-kbEeX0RC7q_"
      },
      "outputs": [],
      "source": [
        "for col in [\"RELI/AE\", \"Optativa Assignada\"]:\n",
        "    display(Markdown(f\"### 📊 **Comptador de _'{col}'_**\"))\n",
        "    display(Markdown(\"```\\n\" + str(df_eso[col].value_counts()) + \"\\n```\"))"
      ]
    },
    {
      "cell_type": "markdown",
      "metadata": {
        "id": "hExjc92CC7rA"
      },
      "source": [
        "### DESCARREGA"
      ]
    },
    {
      "cell_type": "code",
      "execution_count": null,
      "metadata": {
        "id": "ydT62HqxC7rA"
      },
      "outputs": [],
      "source": [
        "df_eso.to_csv(\"Assignació_primer_eso.csv\", index=False)\n",
        "files.download(\"Assignació_primer_eso.csv\")"
      ]
    },
    {
      "cell_type": "markdown",
      "metadata": {
        "id": "VUGgFJCK-4oB"
      },
      "source": [
        "# **PRIMER CAP A SEGON**"
      ]
    },
    {
      "cell_type": "markdown",
      "source": [
        "Envia un fitxer amb les columnes : Nom alumne\\*, Any, Nom estudis, Grup\\*, Primera opció\\*, Segona opció\\*, Tercera opció\\*. Sense files buides ni altres elements.\n",
        "\n",
        "\\* *columnes obligatòries*"
      ],
      "metadata": {
        "id": "HdLWUYOSGACg"
      }
    },
    {
      "cell_type": "code",
      "execution_count": null,
      "metadata": {
        "id": "DRgnZQqg_CDp"
      },
      "outputs": [],
      "source": [
        "from google.colab import files\n",
        "import pandas as pd\n",
        "uploaded = files.upload()\n",
        "filename = next(iter(uploaded))\n",
        "df_primer = pd.read_csv(filename)\n",
        "print(df_primer.head())"
      ]
    },
    {
      "cell_type": "markdown",
      "metadata": {
        "id": "C3K8JprK_CDq"
      },
      "source": [
        "### RECOMPTE"
      ]
    },
    {
      "cell_type": "code",
      "execution_count": null,
      "metadata": {
        "id": "Hspe9Lfl_CDr"
      },
      "outputs": [],
      "source": [
        "import ipywidgets as widgets\n",
        "from IPython.display import display, Markdown\n",
        "\n",
        "for col in df_primer.columns[3:]:\n",
        "    display(Markdown(f\"### 📊 **Comptador de _'{col}'_**\"))\n",
        "    display(Markdown(\"```\\n\" + str(df_primer[col].value_counts()) + \"\\n```\"))"
      ]
    },
    {
      "cell_type": "markdown",
      "metadata": {
        "id": "cSfBbZnL_CDt"
      },
      "source": [
        "## ASSIGNACIÓ PRIMERA OPTATIVA"
      ]
    },
    {
      "cell_type": "markdown",
      "metadata": {
        "id": "-WDpLtZQ_CDu"
      },
      "source": [
        "Tria les optatives que s'han d'assignar"
      ]
    },
    {
      "cell_type": "code",
      "execution_count": null,
      "metadata": {
        "id": "b3N1C6QO_CDu"
      },
      "outputs": [],
      "source": [
        "valors_unics = sorted(df_primer['Primera opció'].dropna().unique())\n",
        "selector = widgets.SelectMultiple(\n",
        "    options=valors_unics,\n",
        "    description='Selecciona:',\n",
        "    layout=widgets.Layout(width='50%',height='180px'),\n",
        "    style={'description_width': 'initial'})\n",
        "display(selector)\n",
        "boto = widgets.Button(description=\"Guardar selecció\")\n",
        "\n",
        "def on_button_clicked(b):\n",
        "    global seleccio_set\n",
        "    seleccio_set = set(selector.value)\n",
        "    print(f\"\\n✅ Valors guardats\")\n",
        "\n",
        "boto.on_click(on_button_clicked)\n",
        "display(boto)"
      ]
    },
    {
      "cell_type": "code",
      "execution_count": null,
      "metadata": {
        "id": "1ZQFjIZGAXAM"
      },
      "outputs": [],
      "source": [
        "from IPython.display import display, Markdown\n",
        "\n",
        "display(Markdown(\"## ✅ **ASSIGNATURES ASSIGNADES:**\"))\n",
        "for opt in sorted(seleccio_set):\n",
        "    display(Markdown(f\"- 🎓 **{opt}**\"))\n",
        "\n",
        "optatives = set(df_primer['Primera opció'].dropna().unique())\n",
        "display(Markdown(\"## ❌ **ASSIGNATURES NO ASSIGNADES:**\"))\n",
        "for opt in sorted(optatives-seleccio_set):\n",
        "    display(Markdown(f\"- 🚫 **{opt}**\"))"
      ]
    },
    {
      "cell_type": "code",
      "execution_count": null,
      "metadata": {
        "id": "vJuBJtnw_CDu"
      },
      "outputs": [],
      "source": [
        "df_primer['Optativa Assignada'] = None\n",
        "\n",
        "value_counts_primera = df_primer['Primera opció'].value_counts()\n",
        "value_counts_segona = df_primer['Segona opció'].value_counts()\n",
        "value_counts_tercera = df_primer['Tercera opció'].value_counts()\n",
        "\n",
        "index_vector = []\n",
        "optatives_si = set()\n",
        "optatives_no = set()\n",
        "for i in df_primer.index:\n",
        "    for opcio in ['Primera opció', 'Segona opció', 'Tercera opció']:\n",
        "      opt = df_primer.at[i, opcio]\n",
        "      if opt in seleccio_set:\n",
        "          df_primer.at[i, 'Optativa Assignada'] = opt\n",
        "    if df_primer.at[i, 'Optativa Assignada'] is None:\n",
        "      index_vector.append(i)\n",
        "print(\"Nombre d'alumnes sense assignar:\", len(index_vector))"
      ]
    },
    {
      "cell_type": "code",
      "execution_count": null,
      "metadata": {
        "id": "KiiyFpag_CDv"
      },
      "outputs": [],
      "source": [
        "display(Markdown(\"## **ALUMNES SENSE ASSIGNAR:**\"))\n",
        "df_primer2 = df_primer.iloc[index_vector]\n",
        "df_primer2"
      ]
    },
    {
      "cell_type": "markdown",
      "metadata": {
        "id": "k2ln18iv_CDv"
      },
      "source": [
        "## RECOMPTE FINAL"
      ]
    },
    {
      "cell_type": "code",
      "execution_count": null,
      "metadata": {
        "id": "3YWCUvjf_CDw"
      },
      "outputs": [],
      "source": [
        "for col in [\"Grup\", \"Optativa Assignada\"]:\n",
        "    display(Markdown(f\"### 📊 **Comptador de _'{col}'_**\"))\n",
        "    display(Markdown(\"```\\n\" + str(df_primer[col].value_counts()) + \"\\n```\"))"
      ]
    },
    {
      "cell_type": "code",
      "execution_count": null,
      "metadata": {
        "id": "2RsIkej7_CDw"
      },
      "outputs": [],
      "source": [
        "from IPython.display import display, Markdown\n",
        "\n",
        "display(Markdown(\"## 🧮 **RECOMPTE FINAL DE PRIMER CAP A SEGON PER GRUPS**\"))\n",
        "\n",
        "for val in df_primer['Grup'].dropna().unique():\n",
        "    display(Markdown(f\"### 🧑‍🏫 **Grup _{val}_**\"))\n",
        "\n",
        "    sub_df_primer = df_primer[df_primer['Grup'] == val]\n",
        "\n",
        "    b_counts = sub_df_primer[\"Optativa Assignada\"].value_counts()\n",
        "    display(Markdown(\"**🎯 Optativa assignada:**\"))\n",
        "\n",
        "    for b_val, count in b_counts.items():\n",
        "        display(Markdown(f\"- ➤ **{b_val}**: {count}\"))\n"
      ]
    },
    {
      "cell_type": "markdown",
      "metadata": {
        "id": "_ITbjwKCrCJc"
      },
      "source": [
        "### DESCARREGA"
      ]
    },
    {
      "cell_type": "code",
      "execution_count": null,
      "metadata": {
        "id": "NLgZeRmXCI9U"
      },
      "outputs": [],
      "source": [
        "df_primer.to_csv(\"Assignació_primer_cap_a_segon.csv\", index=False)\n",
        "files.download(\"Assignació_primer_cap_a_segon.csv\")"
      ]
    },
    {
      "cell_type": "markdown",
      "metadata": {
        "id": "X2iVEGX7-xeV"
      },
      "source": [
        "# **SEGON CAP A TERCER**"
      ]
    },
    {
      "cell_type": "markdown",
      "metadata": {
        "id": "DUhlDetdCJsX"
      },
      "source": [
        "Envia un fitxer amb les columnes : Nom alumne\\*, Any, Nom estudis, Grup\\*, EPV/MUS*, Primera opció\\*,Segona opció\\*, Tercera opció\\*. Sense files buides ni altres elements.\n",
        "\n",
        "\\* *columnes obligatòries*"
      ]
    },
    {
      "cell_type": "code",
      "execution_count": null,
      "metadata": {
        "id": "mOYq131xvp1K"
      },
      "outputs": [],
      "source": [
        "from google.colab import files\n",
        "import pandas as pd\n",
        "uploaded = files.upload()\n",
        "filename = next(iter(uploaded))\n",
        "df_segon = pd.read_csv(filename)\n",
        "df_segon['EPV/MUS'] = df_segon['EPV/MUS'].replace(r'^Educació plàstica, visual i audiovisual.*$', 'Educació plàstica, visual i audiovisual', regex=True)\n",
        "df_segon['Primera opció'] = df_segon['Primera opció'].replace(r'^Educació plàstica, visual i audiovisual.*$', 'Educació plàstica, visual i audiovisual', regex=True)\n",
        "print(df_segon.head())"
      ]
    },
    {
      "cell_type": "markdown",
      "metadata": {
        "id": "_wnEr_de45_g"
      },
      "source": [
        "### RECOMPTE"
      ]
    },
    {
      "cell_type": "code",
      "execution_count": null,
      "metadata": {
        "id": "yS2sZdJC4ttG"
      },
      "outputs": [],
      "source": [
        "for col in df_segon.columns[3:]:\n",
        "    display(Markdown(f\"### 📊 **Comptador de  _'{col}'_**\"))\n",
        "    display(Markdown(\"```\\n\" + str(df_segon[col].value_counts()) + \"\\n```\"))"
      ]
    },
    {
      "cell_type": "markdown",
      "metadata": {
        "id": "D__lgNs84uWi"
      },
      "source": [
        "## ASSIGNACIÓ PRIMERA OPTATIVA"
      ]
    },
    {
      "cell_type": "markdown",
      "metadata": {
        "id": "pMxChy0A5AEi"
      },
      "source": [
        "Tria les optatives que vols que s'assignin I GUARDA"
      ]
    },
    {
      "cell_type": "code",
      "execution_count": null,
      "metadata": {
        "id": "_XcJ9lKsPRK7"
      },
      "outputs": [],
      "source": [
        "valors_unics = sorted(df_segon['Primera opció'].dropna().unique())\n",
        "selector = widgets.SelectMultiple(\n",
        "    options=valors_unics,\n",
        "    description='Selecciona:',\n",
        "    layout=widgets.Layout(width='50%',height='200px'),\n",
        "    style={'description_width': 'initial'})\n",
        "display(selector)\n",
        "boto = widgets.Button(description=\"Guardar selecció\")\n",
        "\n",
        "def on_button_clicked(b):\n",
        "    global seleccio_set\n",
        "    seleccio_set = set(selector.value)\n",
        "    print(f\"\\n✅ Valors guardats!\")\n",
        "\n",
        "boto.on_click(on_button_clicked)\n",
        "display(boto)"
      ]
    },
    {
      "cell_type": "code",
      "execution_count": null,
      "metadata": {
        "id": "JYqQqyJPLbvT"
      },
      "outputs": [],
      "source": [
        "from IPython.display import display, Markdown\n",
        "\n",
        "display(Markdown(\"## ✅ **ASSIGNATURES ASSIGNADES:**\"))\n",
        "for opt in sorted(seleccio_set):\n",
        "    display(Markdown(f\"- 🎓 **{opt}**\"))\n",
        "\n",
        "optatives = set(df_segon['Primera opció'].dropna().unique())\n",
        "display(Markdown(\"## ❌ **ASSIGNATURES NO ASSIGNADES:**\"))\n",
        "for opt in sorted(optatives-seleccio_set):\n",
        "    display(Markdown(f\"- 🚫 **{opt}**\"))"
      ]
    },
    {
      "cell_type": "code",
      "execution_count": null,
      "metadata": {
        "id": "rQC38Iu3xBm2"
      },
      "outputs": [],
      "source": [
        "df_segon['Optativa Assignada 1'] = df_segon['EPV/MUS']\n",
        "df_segon['Optativa Assignada 2'] = None\n",
        "\n",
        "value_counts_primera = df_segon['Primera opció'].value_counts()\n",
        "value_counts_segona = df_segon['Segona opció'].value_counts()\n",
        "value_counts_tercera = df_segon['Tercera opció'].value_counts()\n",
        "\n",
        "index_vector = []\n",
        "for i in df_segon.index:\n",
        "    for opcio in ['Primera opció', 'Segona opció', 'Tercera opció']:\n",
        "      opt = df_segon.at[i, opcio]\n",
        "      if opt in seleccio_set:\n",
        "           df_segon.at[i, 'Optativa Assignada 2'] = opt\n",
        "           break\n",
        "    if df_segon.at[i, 'Optativa Assignada 2'] is None:\n",
        "        index_vector.append(i)\n",
        "print(\"Nombre d'alumnes sense assignar:\", len(index_vector))"
      ]
    },
    {
      "cell_type": "code",
      "execution_count": null,
      "metadata": {
        "id": "1cnkb5wE6w6k"
      },
      "outputs": [],
      "source": [
        "display(Markdown(\"## **ALUMNES SENSE ASSIGNAR:**\"))\n",
        "df_segon2 = df_segon.iloc[index_vector]\n",
        "df_segon2"
      ]
    },
    {
      "cell_type": "markdown",
      "metadata": {
        "id": "tioLI3Ue972S"
      },
      "source": [
        "## RECOMPTE FINAL"
      ]
    },
    {
      "cell_type": "code",
      "execution_count": null,
      "metadata": {
        "id": "5Uhr1v7K9I9A"
      },
      "outputs": [],
      "source": [
        "for col in [\"Grup\", \"Optativa Assignada 1\", \"Optativa Assignada 2\"]:\n",
        "    display(Markdown(f\"### 📊 **Comptador de _'{col}'_**\"))\n",
        "    display(Markdown(\"```\\n\" + str(df_segon[col].value_counts()) + \"\\n```\"))"
      ]
    },
    {
      "cell_type": "code",
      "execution_count": null,
      "metadata": {
        "id": "Z0XnJL5S9_T7"
      },
      "outputs": [],
      "source": [
        "from IPython.display import display, Markdown\n",
        "\n",
        "display(Markdown(\"## 🧮 **RECOMPTE FINAL CAP A TERCER PER GRUPS**\"))\n",
        "\n",
        "for val in df_segon['Grup'].dropna().unique():\n",
        "    display(Markdown(f\"### 🧑‍🏫 **Grup _{val}_**\"))\n",
        "\n",
        "    sub_df_segon = df_segon[df_segon['Grup'] == val]\n",
        "\n",
        "    b_counts = sub_df_segon[\"Optativa Assignada 1\"].value_counts()\n",
        "    display(Markdown(\"**🎯 Optativa assignada EPV/MUS:**\"))\n",
        "\n",
        "    for b_val, count in b_counts.items():\n",
        "        display(Markdown(f\"- ➤ **{b_val}**: {count}\"))\n",
        "\n",
        "    b_counts = sub_df_segon[\"Optativa Assignada 2\"].value_counts()\n",
        "    display(Markdown(\"**🎯 Optativa assignada:**\"))\n",
        "    for b_val, count in b_counts.items():\n",
        "        display(Markdown(f\"- ➤ **{b_val}**: {count}\"))"
      ]
    },
    {
      "cell_type": "markdown",
      "metadata": {
        "id": "2UtiB2A1NiQW"
      },
      "source": [
        "DESCARREGAR"
      ]
    },
    {
      "cell_type": "code",
      "execution_count": null,
      "metadata": {
        "id": "2WLmhzB0FDY_"
      },
      "outputs": [],
      "source": [
        "df_segon.to_csv(\"Assignació_segon_cap_a_tercer.csv\", index=False)\n",
        "files.download(\"Assignació_segon_cap_a_tercer.csv\")"
      ]
    },
    {
      "cell_type": "markdown",
      "metadata": {
        "id": "w-IG-4XKstJD"
      },
      "source": [
        "# **TERCER CAP A QUART**"
      ]
    },
    {
      "cell_type": "markdown",
      "metadata": {
        "id": "ZP8Fc0DvBNCE"
      },
      "source": [
        "Enviar un fitxer amb les columnes : Nom alumne\\*, Grup\\*, Modalitat, Primera opció\\*,Segona opció\\*, Tercera opció\\*, Quarta opció\\*, Alemanys curs passat. Sense files buides ni altres elements.\n",
        "\n",
        "\\* *columnes obligatòries*\n",
        "\n"
      ]
    },
    {
      "cell_type": "code",
      "execution_count": null,
      "metadata": {
        "id": "sksRplmds24d"
      },
      "outputs": [],
      "source": [
        "from google.colab import files\n",
        "import pandas as pd\n",
        "uploaded = files.upload()\n",
        "filename = next(iter(uploaded))\n",
        "df_tercer = pd.read_csv(filename)\n",
        "print(df_tercer.head())"
      ]
    },
    {
      "cell_type": "markdown",
      "metadata": {
        "id": "wT6OSba4s24e"
      },
      "source": [
        "### RECOMPTE"
      ]
    },
    {
      "cell_type": "code",
      "execution_count": null,
      "metadata": {
        "id": "seCjNTq_s24e"
      },
      "outputs": [],
      "source": [
        "import ipywidgets as widgets\n",
        "from IPython.display import display, Markdown\n",
        "\n",
        "for col in df_tercer.columns[1:]:\n",
        "    display(Markdown(f\"### 📊 **Comptador de _'{col}'_**\"))\n",
        "    display(Markdown(\"```\\n\" + str(df_tercer[col].value_counts()) + \"\\n```\"))"
      ]
    },
    {
      "cell_type": "markdown",
      "metadata": {
        "id": "JIc5dsRAs24f"
      },
      "source": [
        "## ASSIGNACIÓ OPTATIVES"
      ]
    },
    {
      "cell_type": "markdown",
      "metadata": {
        "id": "j9iMZujWs24g"
      },
      "source": [
        "Tria les optatives que vols que s'assignin"
      ]
    },
    {
      "cell_type": "code",
      "execution_count": null,
      "metadata": {
        "id": "QQ28XEdhs24g"
      },
      "outputs": [],
      "source": [
        "valors_unics = sorted(df_tercer['Primera opció'].dropna().unique())\n",
        "valors_unics.append('DIGITALITZACIÓ (EN ANGLÈS)')\n",
        "selector = widgets.SelectMultiple(\n",
        "    options=valors_unics,\n",
        "    description='Selecciona:',\n",
        "    layout=widgets.Layout(width='50%'),\n",
        "    style={'description_width': 'initial'})\n",
        "display(selector)\n",
        "boto = widgets.Button(description=\"Guardar selecció\")\n",
        "\n",
        "def on_button_clicked(b):\n",
        "    global seleccio_set\n",
        "    seleccio_set = set(selector.value)\n",
        "    print(f\"\\n✅ Valors guardats\")\n",
        "\n",
        "boto.on_click(on_button_clicked)\n",
        "display(boto)"
      ]
    },
    {
      "cell_type": "markdown",
      "source": [
        "Mostra les assignatures assignades"
      ],
      "metadata": {
        "id": "7XrV509Yziwp"
      }
    },
    {
      "cell_type": "code",
      "execution_count": null,
      "metadata": {
        "id": "aEaVKHeMs24h"
      },
      "outputs": [],
      "source": [
        "from IPython.display import display, Markdown\n",
        "\n",
        "display(Markdown(\"## ✅ **ASSIGNATURES ASSIGNADES:**\"))\n",
        "for opt in sorted(seleccio_set):\n",
        "    display(Markdown(f\"- 🎓 **{opt}**\"))\n",
        "\n",
        "optatives = set(df_tercer['Primera opció'].dropna().unique())\n",
        "display(Markdown(\"## ❌ **ASSIGNATURES NO ASSIGNADES:**\"))\n",
        "for opt in sorted(optatives-seleccio_set):\n",
        "    display(Markdown(f\"- 🚫 **{opt}**\"))"
      ]
    },
    {
      "cell_type": "markdown",
      "source": [
        "Assigna els alumnes a les seves optatives. S'assigna segons la seva tria d'opcions."
      ],
      "metadata": {
        "id": "WkOjN9Xrzq9_"
      }
    },
    {
      "cell_type": "code",
      "execution_count": null,
      "metadata": {
        "id": "be9pyRsJs24h"
      },
      "outputs": [],
      "source": [
        "df_tercer['Optativa Assignada 1'] = None\n",
        "df_tercer['Optativa Assignada 2'] = None\n",
        "df_tercer['Optativa Assignada 3'] = None\n",
        "\n",
        "value_counts_primera = df_tercer['Primera opció'].value_counts()\n",
        "value_counts_segona = df_tercer['Segona opció'].value_counts()\n",
        "value_counts_tercera = df_tercer['Tercera opció'].value_counts()\n",
        "value_counts_tercera = df_tercer['Quarta opció'].value_counts()\n",
        "\n",
        "index_vector = []\n",
        "optatives_no = set()\n",
        "for i in df_tercer.index:\n",
        "    for opcio in ['Primera opció', 'Segona opció', 'Tercera opció', 'Quarta opció']:\n",
        "      opt = df_tercer.at[i, opcio]\n",
        "      if opt in seleccio_set:\n",
        "        if df_tercer.at[i, 'Optativa Assignada 1'] is None:\n",
        "           df_tercer.at[i, 'Optativa Assignada 1'] = opt\n",
        "        elif df_tercer.at[i, 'Optativa Assignada 2'] is None and df_tercer.at[i, 'Grup'] != 'A':\n",
        "           df_tercer.at[i, 'Optativa Assignada 2'] = opt\n",
        "        elif df_tercer.at[i, 'Optativa Assignada 3'] is None and df_tercer.at[i, 'Grup'] != 'A':\n",
        "           df_tercer.at[i, 'Optativa Assignada 3'] = opt\n",
        "    if df_tercer.at[i, 'Optativa Assignada 3'] is None and df_tercer.at[i, 'Grup'] != 'A':\n",
        "        index_vector.append(i)\n",
        "print(\"Nombre d'alumnes sense assignar:\", len(index_vector))"
      ]
    },
    {
      "cell_type": "code",
      "execution_count": null,
      "metadata": {
        "id": "3jj-FLvKs24j"
      },
      "outputs": [],
      "source": [
        "display(Markdown(\"## **ALUMNES AMB ALGUNA OPCIÓ SENSE ASSIGNAR (normalment la tercera):**\"))\n",
        "df_tercer2 = df_tercer.iloc[index_vector]\n",
        "df_tercer2"
      ]
    },
    {
      "cell_type": "markdown",
      "metadata": {
        "id": "8WtTPC_Es24k"
      },
      "source": [
        "## RECOMPTE FINAL\n",
        "\n",
        "Nombre d'alumnes assignats a cada assignatura"
      ]
    },
    {
      "cell_type": "code",
      "execution_count": null,
      "metadata": {
        "id": "IBdCR50YyIRk"
      },
      "outputs": [],
      "source": [
        "b_counts1 = df_tercer[\"Optativa Assignada 1\"].value_counts()\n",
        "b_counts2= df_tercer[\"Optativa Assignada 2\"].value_counts()\n",
        "b_counts3 = df_tercer[\"Optativa Assignada 3\"].value_counts()\n",
        "vc_total_suma = b_counts1.add(b_counts2, fill_value=0).astype(int)\n",
        "vc_total_suma = vc_total_suma.add(b_counts3, fill_value=0).astype(int)\n",
        "\n",
        "display(Markdown(f\"### 📊 **Comptador de _'Grup'_**\"))\n",
        "display(Markdown(\"```\\n\" + str(df_tercer['Grup'].value_counts()) + \"\\n```\"))\n",
        "display(Markdown(f\"### 📊 **Comptador total _'d'Optatives'_**\"))\n",
        "display(Markdown(\"```\\n\" + str(vc_total_suma) + \"\\n```\"))"
      ]
    },
    {
      "cell_type": "markdown",
      "source": [
        "Assignacions per grup classe"
      ],
      "metadata": {
        "id": "0nJVbDm5z5Wo"
      }
    },
    {
      "cell_type": "code",
      "execution_count": null,
      "metadata": {
        "id": "w93FCAAtyIRk"
      },
      "outputs": [],
      "source": [
        "from IPython.display import display, Markdown\n",
        "\n",
        "display(Markdown(\"## 🧮 **RECOMPTE FINAL TERCER CAP A QUART PER GRUPS**\"))\n",
        "counts = dict()\n",
        "for val in df_tercer['Grup'].dropna().unique():\n",
        "    display(Markdown(f\"### 🧑‍🏫 **Grup _{val}_**\"))\n",
        "\n",
        "    sub_df_tercer = df_tercer[df_tercer['Grup'] == val]\n",
        "\n",
        "    b_counts1 = sub_df_tercer[\"Optativa Assignada 1\"].value_counts()\n",
        "    b_counts2 = sub_df_tercer[\"Optativa Assignada 2\"].value_counts()\n",
        "    b_counts3 = sub_df_tercer[\"Optativa Assignada 3\"].value_counts()\n",
        "    vc_total = b_counts1.add(b_counts2, fill_value=0).astype(int)\n",
        "    vc_total = vc_total.add(b_counts3, fill_value=0).astype(int)\n",
        "    counts[val] = vc_total\n",
        "    display(Markdown(\"**🎯 Valors totals Optatives assignades:**\"))\n",
        "    for b_val, count in vc_total.items():\n",
        "        display(Markdown(f\"- ➤ **{b_val}**: {count}\"))"
      ]
    },
    {
      "cell_type": "markdown",
      "metadata": {
        "id": "vf5iOwbAyIRl"
      },
      "source": [
        "DESCARREGAR"
      ]
    },
    {
      "cell_type": "code",
      "execution_count": null,
      "metadata": {
        "id": "cttIfBvKyIRl"
      },
      "outputs": [],
      "source": [
        "df_tercer.to_csv(\"Assignació_tercer.csv\", index=False)\n",
        "files.download(\"Assignació_tercer.csv\")"
      ]
    },
    {
      "cell_type": "markdown",
      "metadata": {
        "id": "U8o6GP_L2qZ4"
      },
      "source": [
        "## **ASSIGNACIÓ DELS BLOCS DE QUART**\n",
        "\n",
        "Funcions, no s'ha de fer res (executar)."
      ]
    },
    {
      "cell_type": "code",
      "source": [
        "import time\n",
        "from typing import Set, FrozenSet\n",
        "from itertools import combinations\n",
        "from IPython.display import Markdown, display\n",
        "import re\n",
        "from collections import defaultdict\n",
        "from itertools import combinations\n",
        "import itertools\n",
        "import ipywidgets as widgets\n",
        "from IPython.display import display, clear_output\n",
        "print(\"Ignorar aquest missatge\")\n",
        "df_curt = df_tercer[['Grup', 'Optativa Assignada 1', 'Optativa Assignada 2', 'Optativa Assignada 3']]\n",
        "df_tercer['Optatives Assignades'] = df_curt.apply(\n",
        "    lambda row: set([row['Optativa Assignada 1'], row['Optativa Assignada 2'], row['Optativa Assignada 3']]),\n",
        "    axis=1\n",
        ")\n",
        "def genera_grups(seleccio_set, nombre_grups):\n",
        "  grups = []\n",
        "  for grup in seleccio_set:\n",
        "    for i in range(nombre_grups[grup]):\n",
        "      grups.append(f\"{grup}_{i+1}\")\n",
        "  return grups\n",
        "\n",
        "\n",
        "import ipywidgets as widgets\n",
        "from IPython.display import display, clear_output, Markdown\n",
        "\n",
        "nombre_grups: dict[str, int] = dict()\n",
        "nombre_alumnes: dict[str, int] = dict()\n",
        "\n",
        "noms_totals = [f\"{s} [{vc_total_suma[s]}]\" for s in seleccio_set]\n",
        "opcions = sorted(noms_totals)\n",
        "grup_widgets = {}\n",
        "alumne_widgets = {}\n",
        "linies_widgets = []\n",
        "\n",
        "for clau in opcions:\n",
        "    label = widgets.HTML(\n",
        "        value=f\"<div style='width: 500px; white-space: normal;'>{clau}</div>\"\n",
        "    )\n",
        "\n",
        "    alumne_input = widgets.BoundedIntText(\n",
        "        value=20, min=1, max=100, description='Alumnes'\n",
        "    )\n",
        "    grup_input = widgets.BoundedIntText(\n",
        "        value=1, min=1, max=10, description='Grups'\n",
        "    )\n",
        "\n",
        "    alumne_widgets[clau] = alumne_input\n",
        "    grup_widgets[clau] = grup_input\n",
        "\n",
        "    fila = widgets.HBox([label, alumne_input, grup_input])\n",
        "    linies_widgets.append(fila)\n",
        "\n",
        "boto = widgets.Button(description=\"Guardar tot\", button_style='success')\n",
        "sortida = widgets.Output()\n",
        "\n",
        "def on_boto_click(b):\n",
        "    nombre_alumnes.clear()\n",
        "    nombre_grups.clear()\n",
        "    for clau in opcions:\n",
        "        nom_assignatura = clau.split(' [')[0]\n",
        "        nombre_alumnes[nom_assignatura] = alumne_widgets[clau].value\n",
        "        nombre_grups[nom_assignatura] = grup_widgets[clau].value\n",
        "\n",
        "    with sortida:\n",
        "        clear_output()\n",
        "        display(Markdown(\"## ✅ Valors guardats! ✅\"))\n",
        "\n",
        "import ipywidgets as widgets\n",
        "from IPython.display import display, clear_output, Markdown\n",
        "\n",
        "def base(nom): return nom.split('_')[0]\n",
        "from itertools import permutations\n",
        "from copy import deepcopy\n",
        "\n",
        "def has_valid_assignment(opts, blocs, blocs_counts, max_per_opcio):\n",
        "    opts_list = list(opts)\n",
        "    best_perm = None\n",
        "    best_score = float('inf')\n",
        "\n",
        "    for perm in permutations(opts_list):\n",
        "        temp_counts = {bloc: dict(blocs_counts[bloc]) for bloc in blocs_counts}\n",
        "        valid = True\n",
        "\n",
        "        for bloc_idx, opt in enumerate(perm, 1):\n",
        "            temp_counts[bloc_idx][opt] = temp_counts[bloc_idx].get(opt, 0) + 1\n",
        "\n",
        "            if temp_counts[bloc_idx][opt] > max_per_opcio.get(opt, float('inf')):\n",
        "                valid = False\n",
        "                break\n",
        "\n",
        "        if valid and all(opt in bloc for opt, bloc in zip(perm, blocs)):\n",
        "            score = max(\n",
        "                max(temp_counts[bloc].values(), default=0)\n",
        "                for bloc in temp_counts\n",
        "            )\n",
        "            if score < best_score:\n",
        "                best_score = score\n",
        "                best_perm = perm\n",
        "\n",
        "    return (best_perm is not None), best_perm\n",
        "\n",
        "\n",
        "def son_blocs_valid_simple(bloc1, bloc2, bloc3, max_per_opcio, assigna=False):\n",
        "    blocs_sets = [set(base(x) for x in bloc if x is not None) for bloc in (bloc1, bloc2, bloc3)]\n",
        "    blocs_counts = {1: {}, 2: {}, 3: {}}\n",
        "    if assigna:\n",
        "      df_tercer['Assignatura Bloc 1'] = None\n",
        "      df_tercer['Assignatura Bloc 2'] = None\n",
        "      df_tercer['Assignatura Bloc 3'] = None\n",
        "    for i in df_tercer.index:\n",
        "        opts = {opt for opt in df_tercer.at[i, 'Optatives Assignades'] if opt is not None}\n",
        "        if len(opts) != 3:\n",
        "            continue\n",
        "        if not all(opts & bloc for bloc in blocs_sets):\n",
        "            display(Markdown(\n",
        "                f\"**No hi ha una optativa a cada bloc per aquest alumne:**\\n\\n\"\n",
        "                f\"- Grup: `{df_tercer.at[i, 'Grup']}`\\n\"\n",
        "                f\"- Optatives possibles: `{', '.join(sorted(opts))}`\"\n",
        "            ))\n",
        "            return False, blocs_counts\n",
        "        possible, perm = has_valid_assignment(opts, blocs_sets, blocs_counts, max_per_opcio)\n",
        "        if not possible:\n",
        "            display(Markdown(\n",
        "                f\"**No hi ha una assignació vàlida per aquest alumne:**\\n\\n\"\n",
        "                f\"- Grup: `{df_tercer.at[i, 'Grup']}`\\n\"\n",
        "                f\"- Optatives possibles: `{', '.join(sorted(opts))}`\"\n",
        "            ))\n",
        "            return False, blocs_counts\n",
        "\n",
        "        for bloc_idx, opt in enumerate(perm, 1):\n",
        "            blocs_counts[bloc_idx][opt] = blocs_counts[bloc_idx].get(opt, 0) + 1\n",
        "            if assigna:\n",
        "              nom = f'Assignatura Bloc {bloc_idx}'\n",
        "              df_tercer.at[i, nom] = opt\n",
        "\n",
        "\n",
        "    if assigna:\n",
        "      display(Markdown(\"**Assignació guardada! Descarrega el full de càlcul**\"))\n",
        "    else:\n",
        "      display(Markdown(\"**Aquesta assignació de blocs és vàlida!**\"))\n",
        "    return True, blocs_counts\n",
        "\n",
        "def update_selector():\n",
        "    used = set().union(*classified.values())\n",
        "    string_selector.options = [s for s in strings if s not in used]\n",
        "\n",
        "def update_element_to_move():\n",
        "    all_classified = [(f\"{s} (Bloc {bloc})\", (s, bloc)) for bloc in sorted(classified) for s in sorted(classified[bloc])]\n",
        "    if all_classified:\n",
        "        all_classified.sort(key=lambda x: x[0])\n",
        "        options, values = zip(*all_classified)\n",
        "        element_to_move.options = options\n",
        "        element_to_move._values = values\n",
        "        element_to_move.disabled = False\n",
        "        move_button.disabled = False\n",
        "    else:\n",
        "        element_to_move.options = []\n",
        "        element_to_move.disabled = True\n",
        "        move_button.disabled = True\n",
        "\n",
        "def mostrar_classificacio():\n",
        "    blocs = {k: sorted(classified.get(k, [])) for k in sorted(classified)}\n",
        "    max_files = max(len(blocs[1]), len(blocs[2]), len(blocs[3]))\n",
        "    for k in blocs: blocs[k] += [''] * (max_files - len(blocs[k]))\n",
        "    markdown_output = \"### 📂 Classificació actual:\\n<table><thead><tr><th>Bloc 1</th><th>Bloc 2</th><th>Bloc 3</th></tr></thead><tbody>\\n\"\n",
        "    for i in range(max_files): markdown_output += f\"<tr><td>{blocs[1][i]}</td><td>{blocs[2][i]}</td><td>{blocs[3][i]}</td></tr>\\n\"\n",
        "    markdown_output += \"</tbody></table>\"\n",
        "    with output:\n",
        "        clear_output()\n",
        "        display(Markdown(markdown_output))\n",
        "\n",
        "def classify_strings(b):\n",
        "    selected_strings = string_selector.value\n",
        "    selected_block = block_selector.value\n",
        "    with output:\n",
        "        clear_output()\n",
        "        if not selected_strings:\n",
        "            display(Markdown(\"⚠️ **No has seleccionat cap string.**\"))\n",
        "            return\n",
        "        for s in selected_strings: classified[selected_block].add(s)\n",
        "        update_selector()\n",
        "        update_element_to_move()\n",
        "        mostrar_classificacio()\n",
        "\n",
        "def move_element(b):\n",
        "    with output:\n",
        "        clear_output()\n",
        "        if not element_to_move.value:\n",
        "            display(Markdown(\"⚠️ **No has seleccionat cap element per moure.**\"))\n",
        "            return\n",
        "        idx = element_to_move.index\n",
        "        s, bloc_actual = element_to_move._values[idx]\n",
        "        nou_bloc = new_block_selector.value\n",
        "        if bloc_actual == nou_bloc:\n",
        "            display(Markdown(f\"⚠️ **L'element ja està al Bloc {nou_bloc}.**\"))\n",
        "            return\n",
        "        classified[bloc_actual].remove(s)\n",
        "        classified[nou_bloc].add(s)\n",
        "        update_selector()\n",
        "        update_element_to_move()\n",
        "        mostrar_classificacio()\n"
      ],
      "metadata": {
        "id": "XQq9pueXw1js"
      },
      "execution_count": null,
      "outputs": []
    },
    {
      "cell_type": "markdown",
      "source": [
        "### Indica quants alumnes per classe hi pot haver a la vegada com a màxim per a cada assignatura.\n",
        "Això defineix quants grups diferents de cada assignatura hi haurà"
      ],
      "metadata": {
        "id": "6c-nyTe9pGGD"
      }
    },
    {
      "cell_type": "code",
      "source": [
        "boto.on_click(on_boto_click)\n",
        "display(widgets.VBox(linies_widgets + [boto, sortida]))"
      ],
      "metadata": {
        "id": "Z2qtr_JjTo56"
      },
      "execution_count": null,
      "outputs": []
    },
    {
      "cell_type": "markdown",
      "source": [
        "Nombre de grups per assignatura"
      ],
      "metadata": {
        "id": "woDWbQyVTnDE"
      }
    },
    {
      "cell_type": "code",
      "source": [
        "for grup in sorted(nombre_grups):\n",
        "    print(f\"Nombre de Grups de {grup} → {nombre_grups[grup]}\")\n",
        "\n",
        "materies = genera_grups(seleccio_set, nombre_grups)"
      ],
      "metadata": {
        "id": "0-YzzYIJxGEr"
      },
      "execution_count": null,
      "outputs": []
    },
    {
      "cell_type": "markdown",
      "source": [
        "\n",
        "### Construeix els blocs\n",
        "\n",
        "Tria quins blocs vols mirar si són compatibles i vés canviant l'assignació fins aconseguir resultats vàlids."
      ],
      "metadata": {
        "id": "vFE9ZIwwt5Q8"
      }
    },
    {
      "cell_type": "code",
      "source": [
        "strings = materies\n",
        "classified = {1: set(), 2: set(), 3:set()}\n",
        "string_selector = widgets.SelectMultiple(options=strings, description='Matèries:', rows=6, layout=widgets.Layout(width='500px', height='450px'))\n",
        "block_selector = widgets.RadioButtons(options=[1, 2, 3], description='Bloc:', layout=widgets.Layout(width='150px'))\n",
        "add_button = widgets.Button(description=\"Classifica\", button_style='success')\n",
        "element_to_move = widgets.Dropdown(options=[], description='Element:', layout=widgets.Layout(width='400px'))\n",
        "new_block_selector = widgets.RadioButtons(options=[1, 2, 3], description='Nou bloc:', layout=widgets.Layout(width='150px'))\n",
        "move_button = widgets.Button(description=\"Mou element\", button_style='info')\n",
        "output = widgets.Output()\n",
        "\n",
        "add_button.on_click(classify_strings)\n",
        "move_button.on_click(move_element)\n",
        "update_selector()\n",
        "update_element_to_move()\n",
        "mostrar_classificacio()\n",
        "assignar_box = widgets.VBox([string_selector, block_selector, add_button])\n",
        "moure_box = widgets.VBox([element_to_move, new_block_selector, move_button])\n",
        "principal = widgets.HBox([assignar_box, moure_box])\n",
        "display(principal, output)"
      ],
      "metadata": {
        "id": "X3bZ0wccUPzV"
      },
      "execution_count": null,
      "outputs": []
    },
    {
      "cell_type": "markdown",
      "source": [
        "### Valida els blocs\n",
        "Si no són vàlids, apareixerà la combinació d'assignatures assignades que ho provoquen, sinó sortirà que és una partició de blocs correcta."
      ],
      "metadata": {
        "id": "PJgsV9TBR2rX"
      }
    },
    {
      "cell_type": "code",
      "source": [
        "fet, blocs_counts = son_blocs_valid_simple(classified[1], classified[2], classified[3], nombre_alumnes)"
      ],
      "metadata": {
        "id": "RqyIn4f0Hpw3"
      },
      "execution_count": null,
      "outputs": []
    },
    {
      "cell_type": "code",
      "source": [
        "from IPython.display import Markdown, display\n",
        "\n",
        "markdown = \"---\\n\"\n",
        "for bloc_id in sorted(blocs_counts):\n",
        "    markdown += f\"\\n### 📚 Bloc {bloc_id}\\n\"\n",
        "    markdown += \"| Assignatura                                               | Nombre d'alumnes |\\n\"\n",
        "    markdown += \"|-----------------------------------------------------------|-----------|\\n\"\n",
        "    for assignatura in sorted(blocs_counts[bloc_id]):\n",
        "        comptador = blocs_counts[bloc_id][assignatura]\n",
        "        markdown += f\"| {assignatura:<59} | {comptador:>9} |\\n\"\n",
        "markdown += \"\\n---\"\n",
        "\n",
        "display(Markdown(markdown))\n"
      ],
      "metadata": {
        "id": "IaoTRAa5-CBH"
      },
      "execution_count": null,
      "outputs": []
    },
    {
      "cell_type": "markdown",
      "source": [
        "### Guarda el resultat\n",
        "Per cada alumne, se li assigna quina assignatura de quin bloc li toca, i es poden veure el nombre d'alumnes per bloc."
      ],
      "metadata": {
        "id": "pmos6_elUsQ-"
      }
    },
    {
      "cell_type": "code",
      "source": [
        "fet, blocs_counts = son_blocs_valid_simple(classified[1], classified[2], classified[3], nombre_alumnes, assigna=True)"
      ],
      "metadata": {
        "id": "szOSA4jfUytm"
      },
      "execution_count": null,
      "outputs": []
    },
    {
      "cell_type": "markdown",
      "source": [
        "### DESCARREGAR"
      ],
      "metadata": {
        "id": "pi7WbW33AGDn"
      }
    },
    {
      "cell_type": "code",
      "source": [
        "df_tercer.to_csv(\"Assignació_quart_blocs.csv\", index=False)\n",
        "files.download(\"Assignació_quart_blocs.csv\")"
      ],
      "metadata": {
        "id": "CDkLUCiU_yZm"
      },
      "execution_count": null,
      "outputs": []
    },
    {
      "cell_type": "markdown",
      "metadata": {
        "id": "rlsG7n1dsBn8"
      },
      "source": [
        "# **QUART CAP A PRIMER DE BATXILLERAT**"
      ]
    },
    {
      "cell_type": "markdown",
      "metadata": {
        "id": "8yp648TTsBn8"
      },
      "source": [
        "Enviar un fitxer amb les columnes : Nom alumne, Modalitat*, Obligatòria*, Primera opció modalitat\\*, Segona opció modalitat\\*, Tercera opció modalitat\\*, Primera opció optativa\\*, Segona opció optativa\\*, Tercera opció optativa\\*. Sense files buides ni altres elements.\n",
        "\n",
        "\\* *columnes obligatòries*\n",
        "\n"
      ]
    },
    {
      "cell_type": "code",
      "execution_count": null,
      "metadata": {
        "id": "wuqA2yinsBn9"
      },
      "outputs": [],
      "source": [
        "from google.colab import files\n",
        "import pandas as pd\n",
        "uploaded = files.upload()\n",
        "filename = next(iter(uploaded))\n",
        "df_quart = pd.read_csv(filename)\n",
        "df_quart = df_quart.applymap(lambda x: x.upper() if isinstance(x, str) else x)\n",
        "print(df_quart.head())"
      ]
    },
    {
      "cell_type": "markdown",
      "metadata": {
        "id": "jBuiOJV-sBn-"
      },
      "source": [
        "### RECOMPTE"
      ]
    },
    {
      "cell_type": "code",
      "execution_count": null,
      "metadata": {
        "id": "9OQohxbIsBn-"
      },
      "outputs": [],
      "source": [
        "import ipywidgets as widgets\n",
        "from IPython.display import display, Markdown\n",
        "\n",
        "for col in df_quart.columns[3:8]:\n",
        "    display(Markdown(f\"### 📊 **Comptador de _'{col}'_**\"))\n",
        "    display(Markdown(\"```\\n\" + str(df_quart[col].value_counts()) + \"\\n```\"))"
      ]
    },
    {
      "cell_type": "markdown",
      "metadata": {
        "id": "BTcJHw1bsBn-"
      },
      "source": [
        "## ASSIGNACIÓ OPTATIVA MODALITAT"
      ]
    },
    {
      "cell_type": "markdown",
      "metadata": {
        "id": "LTBHqWbysBn-"
      },
      "source": [
        "Tria les optatives que vols que s'assignin"
      ]
    },
    {
      "cell_type": "code",
      "execution_count": null,
      "metadata": {
        "id": "VElx4ObpsBn_"
      },
      "outputs": [],
      "source": [
        "valors_unics = sorted(df_quart['Primera opció modalitat'].dropna().unique())\n",
        "selector = widgets.SelectMultiple(\n",
        "    options=valors_unics,\n",
        "    description='Selecciona:',\n",
        "    layout=widgets.Layout(width='50%'),\n",
        "    style={'description_width': 'initial'})\n",
        "display(selector)\n",
        "boto = widgets.Button(description=\"Guardar selecció\")\n",
        "\n",
        "def on_button_clicked(b):\n",
        "    global seleccio_set_mod\n",
        "    seleccio_set_mod = set(selector.value)\n",
        "    print(f\"\\n✅ Valors guardats!\\n\")\n",
        "\n",
        "boto.on_click(on_button_clicked)\n",
        "display(boto)"
      ]
    },
    {
      "cell_type": "code",
      "execution_count": null,
      "metadata": {
        "id": "GRTfbtwpsBn_"
      },
      "outputs": [],
      "source": [
        "from IPython.display import display, Markdown\n",
        "\n",
        "display(Markdown(\"## ✅ **ASSIGNATURES ASSIGNADES:**\"))\n",
        "for opt in sorted(seleccio_set_mod):\n",
        "    display(Markdown(f\"- 🎓 **{opt}**\"))\n",
        "\n",
        "optatives = set(df_quart['Primera opció modalitat'].dropna().unique())\n",
        "display(Markdown(\"## ❌ **ASSIGNATURES NO ASSIGNADES:**\"))\n",
        "for opt in sorted(optatives-seleccio_set_mod):\n",
        "    display(Markdown(f\"- 🚫 **{opt}**\"))"
      ]
    },
    {
      "cell_type": "code",
      "execution_count": null,
      "metadata": {
        "id": "gmbVKqd1sBn_"
      },
      "outputs": [],
      "source": [
        "df_quart['Modalitat Assignada 1'] = None\n",
        "df_quart['Modalitat Assignada 2'] = None\n",
        "\n",
        "value_counts_primera = df_quart['Primera opció modalitat'].value_counts()\n",
        "value_counts_segona = df_quart['Segona opció modalitat'].value_counts()\n",
        "value_counts_tercera = df_quart['Tercera opció modalitat'].value_counts()\n",
        "index_vector = []\n",
        "optatives_no = set()\n",
        "for i in df_quart.index:\n",
        "    for opcio in ['Primera opció modalitat', 'Segona opció modalitat', 'Tercera opció modalitat']:\n",
        "      opt = df_quart.at[i, opcio]\n",
        "      if opt in seleccio_set_mod:\n",
        "        if df_quart.at[i, 'Modalitat Assignada 1'] is None:\n",
        "           df_quart.at[i, 'Modalitat Assignada 1'] = opt\n",
        "        elif df_quart.at[i, 'Modalitat Assignada 2'] is None:\n",
        "           df_quart.at[i, 'Modalitat Assignada 2'] = opt\n",
        "    if df_quart.at[i, 'Modalitat Assignada 2'] is None:\n",
        "        index_vector.append(i)\n",
        "print(\"Nombre d'alumnes sense assignar:\", len(index_vector))"
      ]
    },
    {
      "cell_type": "code",
      "execution_count": null,
      "metadata": {
        "id": "yFHYkN54sBoA"
      },
      "outputs": [],
      "source": [
        "display(Markdown(\"## **ALUMNES AMB ALGUNA OPCIÓ DE MODALITAT SENSE ASSIGNAR (normalment la tercera):**\"))\n",
        "df_quart2 = df_quart.iloc[index_vector]\n",
        "df_quart2"
      ]
    },
    {
      "cell_type": "markdown",
      "metadata": {
        "id": "9rYSzirPwg9l"
      },
      "source": [
        "## ASSIGNACIÓ OPTATIVA ESPECÍFICA"
      ]
    },
    {
      "cell_type": "code",
      "source": [
        "for col in df_quart.columns[8:11]:\n",
        "    display(Markdown(f\"### 📊 **Comptador de _'{col}'_**\"))\n",
        "    display(Markdown(\"```\\n\" + str(df_quart[col].value_counts()) + \"\\n```\"))"
      ],
      "metadata": {
        "id": "OHTamn97QvjX"
      },
      "execution_count": null,
      "outputs": []
    },
    {
      "cell_type": "code",
      "execution_count": null,
      "metadata": {
        "id": "yKq9uZ3gwWul"
      },
      "outputs": [],
      "source": [
        "valors_unics = sorted(df_quart['Primera opció optativa'].dropna().unique())\n",
        "selector = widgets.SelectMultiple(\n",
        "    options=valors_unics,\n",
        "    description='Selecciona:',\n",
        "    layout=widgets.Layout(width='50%'),\n",
        "    style={'description_width': 'initial'})\n",
        "display(selector)\n",
        "boto = widgets.Button(description=\"Guardar selecció\")\n",
        "\n",
        "def on_button_clicked(b):\n",
        "    global seleccio_set_espec\n",
        "    seleccio_set_espec = set(selector.value)\n",
        "    print(f\"\\n✅ Valors guardats\\n\")\n",
        "\n",
        "boto.on_click(on_button_clicked)\n",
        "display(boto)"
      ]
    },
    {
      "cell_type": "code",
      "execution_count": null,
      "metadata": {
        "id": "2MLNSkWBwWuo"
      },
      "outputs": [],
      "source": [
        "from IPython.display import display, Markdown\n",
        "\n",
        "display(Markdown(\"## ✅ **ASSIGNATURES ASSIGNADES:**\"))\n",
        "for opt in sorted(seleccio_set_espec):\n",
        "    display(Markdown(f\"- 🎓 **{opt}**\"))\n",
        "\n",
        "optatives = set(df_quart['Primera opció optativa'].dropna().unique())\n",
        "display(Markdown(\"## ❌ **ASSIGNATURES NO ASSIGNADES:**\"))\n",
        "for opt in sorted(optatives-seleccio_set_espec):\n",
        "    display(Markdown(f\"- 🚫 **{opt}**\"))"
      ]
    },
    {
      "cell_type": "code",
      "execution_count": null,
      "metadata": {
        "id": "UAkoeyBqwWup"
      },
      "outputs": [],
      "source": [
        "df_quart['Optativa Assignada 1'] = None\n",
        "\n",
        "value_counts_primera = df_quart['Primera opció optativa'].value_counts()\n",
        "index_vector = []\n",
        "optatives_no = set()\n",
        "for i in df_quart.index:\n",
        "    for opcio in ['Primera opció optativa', 'Segona opció optativa', 'Tercera opció optativa']:\n",
        "      opt = df_quart.at[i, opcio]\n",
        "      if opt in seleccio_set_espec:\n",
        "        if df_quart.at[i, 'Optativa Assignada 1'] is None:\n",
        "           df_quart.at[i, 'Optativa Assignada 1'] = opt\n",
        "    if df_quart.at[i, 'Optativa Assignada 1'] is None:\n",
        "        index_vector.append(i)\n",
        "print(\"Nombre d'alumnes sense assignar:\", len(index_vector))"
      ]
    },
    {
      "cell_type": "code",
      "execution_count": null,
      "metadata": {
        "id": "xKf1YhhywWuq"
      },
      "outputs": [],
      "source": [
        "display(Markdown(\"## **ALUMNES AMB ALGUNA OPCIÓ SENSE ASSIGNAR (normalment la tercera):**\"))\n",
        "df_quart2 = df_quart.iloc[index_vector]\n",
        "df_quart2"
      ]
    },
    {
      "cell_type": "markdown",
      "metadata": {
        "id": "hh940ZFKsBoA"
      },
      "source": [
        "## RECOMPTE FINAL"
      ]
    },
    {
      "cell_type": "code",
      "execution_count": null,
      "metadata": {
        "id": "syJ-09Z5sBoA"
      },
      "outputs": [],
      "source": [
        "b_counts1 = df_quart[\"Modalitat Assignada 1\"].value_counts()\n",
        "b_counts2= df_quart[\"Modalitat Assignada 2\"].value_counts()\n",
        "vc_total_suma = b_counts1.add(b_counts2, fill_value=0).astype(int)\n",
        "vc_total_suma = vc_total_suma.sort_values(ascending=False)\n",
        "display(Markdown(f\"### 📊 **Comptador total _d'Optatives de Modalitat_**\"))\n",
        "display(Markdown(\"```\\n\" + str(vc_total_suma) + \"\\n```\"))\n",
        "\n",
        "opt_counts = df_quart[\"Optativa Assignada 1\"].value_counts()\n",
        "display(Markdown(f\"### 📊 **Comptador total _d'Optatives Específiques_**\"))\n",
        "display(Markdown(\"```\\n\" + str(opt_counts) + \"\\n```\"))\n"
      ]
    },
    {
      "cell_type": "markdown",
      "metadata": {
        "id": "njoXku3ksBoB"
      },
      "source": [
        "DESCARREGAR"
      ]
    },
    {
      "cell_type": "code",
      "execution_count": null,
      "metadata": {
        "id": "L0fV0Rp_sBoB"
      },
      "outputs": [],
      "source": [
        "df_segon.to_csv(\"Assignació_quart.csv\", index=False)\n",
        "files.download(\"Assignació_quart.csv\")"
      ]
    },
    {
      "cell_type": "markdown",
      "metadata": {
        "id": "99csQzyxT3TY"
      },
      "source": [
        "## **ASSIGNACIÓ DELS BLOCS DE PRIMER DE BATXILLERAT**\n",
        "\n",
        "Funcions, no s'ha de fer res (executar)."
      ]
    },
    {
      "cell_type": "code",
      "source": [
        "import time\n",
        "from typing import Set, FrozenSet\n",
        "from itertools import combinations\n",
        "from IPython.display import Markdown, display\n",
        "import re\n",
        "from collections import defaultdict\n",
        "from itertools import combinations\n",
        "import itertools\n",
        "import ipywidgets as widgets\n",
        "from IPython.display import display, clear_output\n",
        "print(\"Ignorar aquest missatge\")\n",
        "df_curt = df_quart[['Modalitat Assignada 1', 'Modalitat Assignada 2', 'Optativa Assignada 1']]\n",
        "df_quart['Optatives Assignades'] = df_curt.apply(\n",
        "    lambda row: set([row['Modalitat Assignada 1'], row['Modalitat Assignada 2'], row['Optativa Assignada 1']]),\n",
        "    axis=1\n",
        ")\n",
        "def genera_grups(seleccio_set, nombre_grups):\n",
        "  grups = []\n",
        "  for grup in seleccio_set:\n",
        "    for i in range(nombre_grups[grup]):\n",
        "      grups.append(f\"{grup}_{i+1}\")\n",
        "  return grups\n",
        "\n",
        "\n",
        "import ipywidgets as widgets\n",
        "from IPython.display import display, clear_output, Markdown\n",
        "\n",
        "# Inicialització de diccionaris\n",
        "nombre_grups: dict[str, int] = dict()\n",
        "nombre_alumnes: dict[str, int] = dict()\n",
        "\n",
        "# Claus amb noms llargs\n",
        "\n",
        "opcions = sorted(list(seleccio_set_espec|seleccio_set_mod))\n",
        "\n",
        "# Diccionaris de widgets\n",
        "grup_widgets = {}\n",
        "alumne_widgets = {}\n",
        "linies_widgets = []\n",
        "\n",
        "# Crear la graella de widgets\n",
        "for clau in opcions:\n",
        "    # Label amb estil per fer wrap\n",
        "    label = widgets.HTML(\n",
        "        value=f\"<div style='width: 500px; white-space: normal;'>{clau}</div>\"\n",
        "    )\n",
        "\n",
        "    alumne_input = widgets.BoundedIntText(\n",
        "        value=20, min=1, max=100, description='Alumnes'\n",
        "    )\n",
        "    grup_input = widgets.BoundedIntText(\n",
        "        value=1, min=1, max=10, description='Grups'\n",
        "    )\n",
        "\n",
        "    alumne_widgets[clau] = alumne_input\n",
        "    grup_widgets[clau] = grup_input\n",
        "\n",
        "    fila = widgets.HBox([label, alumne_input, grup_input])\n",
        "    linies_widgets.append(fila)\n",
        "\n",
        "# Botó per guardar\n",
        "boto = widgets.Button(description=\"Guardar tot\", button_style='success')\n",
        "sortida = widgets.Output()\n",
        "\n",
        "# Acció quan es clica el botó\n",
        "def on_boto_click(b):\n",
        "    nombre_alumnes.clear()\n",
        "    nombre_grups.clear()\n",
        "    for clau in opcions:\n",
        "        nom_assignatura = clau.split(' [')[0]\n",
        "        nombre_alumnes[nom_assignatura] = alumne_widgets[clau].value\n",
        "        nombre_grups[nom_assignatura] = grup_widgets[clau].value\n",
        "\n",
        "    with sortida:\n",
        "        clear_output()\n",
        "        display(Markdown(\"## ✅ Valors guardats! ✅\"))\n",
        "\n",
        "import ipywidgets as widgets\n",
        "from IPython.display import display, clear_output, Markdown\n",
        "\n",
        "def base(nom): return nom.split('_')[0]\n",
        "from itertools import permutations\n",
        "from copy import deepcopy\n",
        "\n",
        "def has_valid_assignment(opts, blocs, blocs_counts, max_per_opcio):\n",
        "    opts_list = list(opts)\n",
        "    best_perm = None\n",
        "    best_score = float('inf')\n",
        "\n",
        "    for perm in permutations(opts_list):\n",
        "        temp_counts = {bloc: dict(blocs_counts[bloc]) for bloc in blocs_counts}\n",
        "        valid = True\n",
        "\n",
        "        for bloc_idx, opt in enumerate(perm, 1):\n",
        "            temp_counts[bloc_idx][opt] = temp_counts[bloc_idx].get(opt, 0) + 1\n",
        "\n",
        "            if temp_counts[bloc_idx][opt] > max_per_opcio.get(opt, float('inf')):\n",
        "                valid = False\n",
        "                break\n",
        "\n",
        "        if valid and all(opt in bloc for opt, bloc in zip(perm, blocs)):\n",
        "            # Calculem una mètrica de \"repartiment\"\n",
        "            score = max(\n",
        "                max(temp_counts[bloc].values(), default=0)\n",
        "                for bloc in temp_counts\n",
        "            )\n",
        "            if score < best_score:\n",
        "                best_score = score\n",
        "                best_perm = perm\n",
        "\n",
        "    return (best_perm is not None), best_perm\n",
        "\n",
        "\n",
        "def son_blocs_valid_simple(bloc1, bloc2, bloc3, max_per_opcio, assigna=False):\n",
        "    blocs_sets = [set(base(x) for x in bloc if x is not None) for bloc in (bloc1, bloc2, bloc3)]\n",
        "    blocs_counts = {1: {}, 2: {}, 3: {}}\n",
        "    if assigna:\n",
        "      df_batx['Assignatura Bloc 1'] = None\n",
        "      df_batx['Assignatura Bloc 2'] = None\n",
        "      df_batx['Assignatura Bloc 3'] = None\n",
        "    for i in df_batx.index:\n",
        "        opts = {opt for opt in df_batx.at[i, 'Optatives Assignades'] if opt is not None}\n",
        "        if len(opts) != 3:\n",
        "            continue\n",
        "        if not all(opts & bloc for bloc in blocs_sets):\n",
        "            display(Markdown(\n",
        "                f\"**No hi ha una optativa a cada bloc per aquest alumne:**\\n\\n\"\n",
        "                f\"- Optatives possibles: `{', '.join(sorted(opts))}`\"\n",
        "            ))\n",
        "            return False, blocs_counts\n",
        "        possible, perm = has_valid_assignment(opts, blocs_sets, blocs_counts, max_per_opcio)\n",
        "        if not possible:\n",
        "            display(Markdown(\n",
        "                f\"**No hi ha una assignació vàlida per aquest alumne:**\\n\\n\"\n",
        "                f\"- Optatives possibles: `{', '.join(sorted(opts))}`\"\n",
        "            ))\n",
        "            return False, blocs_counts\n",
        "\n",
        "        # Actualitzar comptadors amb la permutació assignada\n",
        "        for bloc_idx, opt in enumerate(perm, 1):\n",
        "            blocs_counts[bloc_idx][opt] = blocs_counts[bloc_idx].get(opt, 0) + 1\n",
        "            if assigna:\n",
        "              nom = f'Assignatura Bloc {bloc_idx}'\n",
        "              df_batx.at[i, nom] = opt\n",
        "\n",
        "\n",
        "    if assigna:\n",
        "      display(Markdown(\"**Assignació guardada! Descarrega el full de càlcul**\"))\n",
        "    else:\n",
        "      display(Markdown(\"**Aquesta assignació de blocs és vàlida!**\"))\n",
        "    return True, blocs_counts\n",
        "\n",
        "def update_selector():\n",
        "    used = set().union(*classified.values())\n",
        "    string_selector.options = [s for s in strings if s not in used]\n",
        "\n",
        "def update_element_to_move():\n",
        "    all_classified = [(f\"{s} (Bloc {bloc})\", (s, bloc)) for bloc in sorted(classified) for s in sorted(classified[bloc])]\n",
        "    if all_classified:\n",
        "        all_classified.sort(key=lambda x: x[0])\n",
        "        options, values = zip(*all_classified)\n",
        "        element_to_move.options = options\n",
        "        element_to_move._values = values\n",
        "        element_to_move.disabled = False\n",
        "        move_button.disabled = False\n",
        "    else:\n",
        "        element_to_move.options = []\n",
        "        element_to_move.disabled = True\n",
        "        move_button.disabled = True\n",
        "\n",
        "def mostrar_classificacio():\n",
        "    blocs = {k: sorted(classified.get(k, [])) for k in sorted(classified)}\n",
        "    max_files = max(len(blocs[1]), len(blocs[2]), len(blocs[3]))\n",
        "    for k in blocs: blocs[k] += [''] * (max_files - len(blocs[k]))\n",
        "    markdown_output = \"### 📂 Classificació actual:\\n<table><thead><tr><th>Bloc 1</th><th>Bloc 2</th><th>Bloc 3</th></tr></thead><tbody>\\n\"\n",
        "    for i in range(max_files): markdown_output += f\"<tr><td>{blocs[1][i]}</td><td>{blocs[2][i]}</td><td>{blocs[3][i]}</td></tr>\\n\"\n",
        "    markdown_output += \"</tbody></table>\"\n",
        "    with output:\n",
        "        clear_output()\n",
        "        display(Markdown(markdown_output))\n",
        "\n",
        "def classify_strings(b):\n",
        "    selected_strings = string_selector.value\n",
        "    selected_block = block_selector.value\n",
        "    with output:\n",
        "        clear_output()\n",
        "        if not selected_strings:\n",
        "            display(Markdown(\"⚠️ **No has seleccionat cap string.**\"))\n",
        "            return\n",
        "        for s in selected_strings: classified[selected_block].add(s)\n",
        "        update_selector()\n",
        "        update_element_to_move()\n",
        "        mostrar_classificacio()\n",
        "\n",
        "def move_element(b):\n",
        "    with output:\n",
        "        clear_output()\n",
        "        if not element_to_move.value:\n",
        "            display(Markdown(\"⚠️ **No has seleccionat cap element per moure.**\"))\n",
        "            return\n",
        "        idx = element_to_move.index\n",
        "        s, bloc_actual = element_to_move._values[idx]\n",
        "        nou_bloc = new_block_selector.value\n",
        "        if bloc_actual == nou_bloc:\n",
        "            display(Markdown(f\"⚠️ **L'element ja està al Bloc {nou_bloc}.**\"))\n",
        "            return\n",
        "        classified[bloc_actual].remove(s)\n",
        "        classified[nou_bloc].add(s)\n",
        "        update_selector()\n",
        "        update_element_to_move()\n",
        "        mostrar_classificacio()\n"
      ],
      "metadata": {
        "id": "1aU4Xe0wT3Ta"
      },
      "execution_count": null,
      "outputs": []
    },
    {
      "cell_type": "markdown",
      "source": [
        "### Indica quants alumnes per classe hi pot haver a la vegada com a màxim per a cada assignatura.\n",
        "Això defineix quants grups diferents de cada assignatura hi haurà"
      ],
      "metadata": {
        "id": "ynOMZ6gcT3Td"
      }
    },
    {
      "cell_type": "code",
      "source": [
        "boto.on_click(on_boto_click)\n",
        "display(widgets.VBox(linies_widgets + [boto, sortida]))"
      ],
      "metadata": {
        "id": "xhRupcqxT3Td"
      },
      "execution_count": null,
      "outputs": []
    },
    {
      "cell_type": "markdown",
      "source": [
        "Nombre de grups per assignatura"
      ],
      "metadata": {
        "id": "CwsnSAcKT3Te"
      }
    },
    {
      "cell_type": "code",
      "source": [
        "for grup in sorted(nombre_grups):\n",
        "    print(f\"Nombre de Grups de {grup} → {nombre_grups[grup]}\")\n",
        "\n",
        "materies = genera_grups(seleccio_set_espec|seleccio_set_mod, nombre_grups)"
      ],
      "metadata": {
        "id": "0AjRigW9T3Tf"
      },
      "execution_count": null,
      "outputs": []
    },
    {
      "cell_type": "markdown",
      "source": [
        "\n",
        "### Construeix els blocs\n",
        "\n",
        "Tria quins blocs vols mirar si són compatibles i vés canviant l'assignació fins aconseguir resultats vàlids."
      ],
      "metadata": {
        "id": "N80VVlOMT3Tf"
      }
    },
    {
      "cell_type": "code",
      "source": [
        "strings = materies\n",
        "classified = {1: set(), 2: set(), 3:set()}\n",
        "string_selector = widgets.SelectMultiple(options=strings, description='Matèries:', rows=6, layout=widgets.Layout(width='500px', height='450px'))\n",
        "block_selector = widgets.RadioButtons(options=[1, 2, 3], description='Bloc:', layout=widgets.Layout(width='150px'))\n",
        "add_button = widgets.Button(description=\"Classifica\", button_style='success')\n",
        "element_to_move = widgets.Dropdown(options=[], description='Element:', layout=widgets.Layout(width='400px'))\n",
        "new_block_selector = widgets.RadioButtons(options=[1, 2, 3], description='Nou bloc:', layout=widgets.Layout(width='150px'))\n",
        "move_button = widgets.Button(description=\"Mou element\", button_style='info')\n",
        "output = widgets.Output()\n",
        "\n",
        "add_button.on_click(classify_strings)\n",
        "move_button.on_click(move_element)\n",
        "update_selector()\n",
        "update_element_to_move()\n",
        "mostrar_classificacio()\n",
        "assignar_box = widgets.VBox([string_selector, block_selector, add_button])\n",
        "moure_box = widgets.VBox([element_to_move, new_block_selector, move_button])\n",
        "principal = widgets.HBox([assignar_box, moure_box])\n",
        "display(principal, output)"
      ],
      "metadata": {
        "id": "MoWx8F8FT3Tg"
      },
      "execution_count": null,
      "outputs": []
    },
    {
      "cell_type": "markdown",
      "source": [
        "### Valida els blocs\n",
        "Si no són vàlids, apareixerà la combinació d'assignatures assignades que ho provoquen, sinó sortirà que és una partició de blocs correcta."
      ],
      "metadata": {
        "id": "rmotC3VjT3Tg"
      }
    },
    {
      "cell_type": "code",
      "source": [
        "fet, blocs_counts = son_blocs_valid_simple(classified[1], classified[2], classified[3], nombre_alumnes)"
      ],
      "metadata": {
        "id": "VZgAsSJeT3Tg"
      },
      "execution_count": null,
      "outputs": []
    },
    {
      "cell_type": "code",
      "source": [
        "from IPython.display import Markdown, display\n",
        "\n",
        "markdown = \"---\\n\"\n",
        "for bloc_id in sorted(blocs_counts):\n",
        "    markdown += f\"\\n### 📚 Bloc {bloc_id}\\n\"\n",
        "    markdown += \"| Assignatura                                               | Nombre d'alumnes |\\n\"\n",
        "    markdown += \"|-----------------------------------------------------------|-----------|\\n\"\n",
        "    for assignatura in sorted(blocs_counts[bloc_id]):\n",
        "        comptador = blocs_counts[bloc_id][assignatura]\n",
        "        markdown += f\"| {assignatura:<59} | {comptador:>9} |\\n\"\n",
        "markdown += \"\\n---\"\n",
        "\n",
        "display(Markdown(markdown))\n"
      ],
      "metadata": {
        "id": "14CbvNniT3Th"
      },
      "execution_count": null,
      "outputs": []
    },
    {
      "cell_type": "markdown",
      "source": [
        "### Guarda el resultat\n",
        "Per cada alumne, se li assigna quina assignatura de quin bloc li toca, i es poden veure el nombre d'alumnes per bloc."
      ],
      "metadata": {
        "id": "5r4W_g0YT3Th"
      }
    },
    {
      "cell_type": "code",
      "source": [
        "fet, blocs_counts = son_blocs_valid_simple(classified[1], classified[2], classified[3], nombre_alumnes, assigna=True)"
      ],
      "metadata": {
        "id": "9UR9R__tT3Th"
      },
      "execution_count": null,
      "outputs": []
    },
    {
      "cell_type": "markdown",
      "source": [
        "### DESCARREGAR"
      ],
      "metadata": {
        "id": "0HlhFYb1T3Ti"
      }
    },
    {
      "cell_type": "code",
      "source": [
        "df_tercer.to_csv(\"Assignació_primer_batx_blocs.csv\", index=False)\n",
        "files.download(\"Assignació_primer_batx_blocs.csv\")"
      ],
      "metadata": {
        "id": "SiQrDNfhT3Ti"
      },
      "execution_count": null,
      "outputs": []
    },
    {
      "cell_type": "markdown",
      "metadata": {
        "id": "5haIlEiGBOcb"
      },
      "source": [
        "# **PRIMER CAP A SEGON DE BATXILLERAT**"
      ]
    },
    {
      "cell_type": "markdown",
      "metadata": {
        "id": "0xrHscigBKLN"
      },
      "source": [
        "Enviar un fitxer amb les columnes : Nom alumne, Modalitat*, Obligatòria*, Primera opció modalitat\\*, Segona opció modalitat\\*, Tercera opció modalitat\\*, Primera opció optativa\\*, Segona opció optativa\\*, Tercera opció optativa\\*. Sense files buides ni altres elements.\n",
        "\n",
        "\\* *columnes obligatòries*"
      ]
    },
    {
      "cell_type": "code",
      "execution_count": null,
      "metadata": {
        "id": "EQail1wABKLP"
      },
      "outputs": [],
      "source": [
        "from google.colab import files\n",
        "import pandas as pd\n",
        "uploaded = files.upload()\n",
        "filename = next(iter(uploaded))\n",
        "df_batx = pd.read_csv(filename)\n",
        "df_batx = df_batx.applymap(lambda x: x.upper() if isinstance(x, str) else x)\n",
        "print(df_batx.head())"
      ]
    },
    {
      "cell_type": "markdown",
      "metadata": {
        "id": "p_DzuUI_BKLQ"
      },
      "source": [
        "### RECOMPTE"
      ]
    },
    {
      "cell_type": "code",
      "execution_count": null,
      "metadata": {
        "id": "kyA0HCFUBKLR"
      },
      "outputs": [],
      "source": [
        "import ipywidgets as widgets\n",
        "from IPython.display import display, Markdown\n",
        "\n",
        "for col in df_batx.columns[3:8]:\n",
        "    display(Markdown(f\"### 📊 **Comptador de _'{col}'_**\"))\n",
        "    display(Markdown(\"```\\n\" + str(df_batx[col].value_counts()) + \"\\n```\"))"
      ]
    },
    {
      "cell_type": "markdown",
      "metadata": {
        "id": "Jft0kVz2BKLR"
      },
      "source": [
        "## ASSIGNACIÓ OPTATIVA MODALITAT"
      ]
    },
    {
      "cell_type": "markdown",
      "metadata": {
        "id": "tri5BokiBKLS"
      },
      "source": [
        "Tria les optatives que vols que s'assignin"
      ]
    },
    {
      "cell_type": "code",
      "execution_count": null,
      "metadata": {
        "id": "pbygBt2tBKLS"
      },
      "outputs": [],
      "source": [
        "valors_unics = sorted(df_batx['Primera opció modalitat'].dropna().unique())\n",
        "selector = widgets.SelectMultiple(\n",
        "    options=valors_unics,\n",
        "    description='Selecciona:',\n",
        "    layout=widgets.Layout(width='50%'),\n",
        "    style={'description_width': 'initial'})\n",
        "display(selector)\n",
        "boto = widgets.Button(description=\"Guardar selecció\")\n",
        "\n",
        "def on_button_clicked(b):\n",
        "    global seleccio_set_mod\n",
        "    seleccio_set_mod = set(selector.value)\n",
        "    print(f\"\\n✅ Valors seleccionats guardats:\\n{seleccio_set_mod}\")\n",
        "\n",
        "boto.on_click(on_button_clicked)\n",
        "display(boto)"
      ]
    },
    {
      "cell_type": "code",
      "execution_count": null,
      "metadata": {
        "id": "tSLjAkITBKLT"
      },
      "outputs": [],
      "source": [
        "from IPython.display import display, Markdown\n",
        "\n",
        "display(Markdown(\"## ✅ **ASSIGNATURES ASSIGNADES:**\"))\n",
        "for opt in sorted(seleccio_set_mod):\n",
        "    display(Markdown(f\"- 🎓 **{opt}**\"))\n",
        "\n",
        "optatives = set(df_batx['Primera opció modalitat'].dropna().unique())\n",
        "display(Markdown(\"## ❌ **ASSIGNATURES NO ASSIGNADES:**\"))\n",
        "for opt in sorted(optatives-seleccio_set_mod):\n",
        "    display(Markdown(f\"- 🚫 **{opt}**\"))"
      ]
    },
    {
      "cell_type": "code",
      "execution_count": null,
      "metadata": {
        "id": "Cwack_tDBKLU"
      },
      "outputs": [],
      "source": [
        "df_batx['Modalitat Assignada 1'] = None\n",
        "df_batx['Modalitat Assignada 2'] = None\n",
        "\n",
        "value_counts_primera = df_batx['Primera opció modalitat'].value_counts()\n",
        "value_counts_segona = df_batx['Segona opció modalitat'].value_counts()\n",
        "index_vector = []\n",
        "optatives_no = set()\n",
        "for i in df_batx.index:\n",
        "    for opcio in ['Primera opció modalitat', 'Segona opció modalitat', 'Tercera opció modalitat']:\n",
        "      opt = df_batx.at[i, opcio]\n",
        "      if opt in seleccio_set_mod:\n",
        "        if df_batx.at[i, 'Modalitat Assignada 1'] is None:\n",
        "           df_batx.at[i, 'Modalitat Assignada 1'] = opt\n",
        "        elif df_batx.at[i, 'Modalitat Assignada 2'] is None:\n",
        "           df_batx.at[i, 'Modalitat Assignada 2'] = opt\n",
        "    if df_batx.at[i, 'Modalitat Assignada 2'] is None:\n",
        "        index_vector.append(i)\n",
        "print(\"Nombre d'alumnes sense assignar:\", len(index_vector))"
      ]
    },
    {
      "cell_type": "code",
      "execution_count": null,
      "metadata": {
        "id": "QHfQwlNtBKLV"
      },
      "outputs": [],
      "source": [
        "display(Markdown(\"## **ALUMNES AMB ALGUNA OPCIÓ SENSE ASSIGNAR (normalment la tercera):**\"))\n",
        "df_df_batx2 =df_batx.iloc[index_vector]\n",
        "df_df_batx2"
      ]
    },
    {
      "cell_type": "markdown",
      "metadata": {
        "id": "mC9co_PXBKLV"
      },
      "source": [
        "## ASSIGNACIÓ OPTATIVA ESPECÍFICA"
      ]
    },
    {
      "cell_type": "code",
      "execution_count": null,
      "metadata": {
        "id": "aB8JAbbEBKLW"
      },
      "outputs": [],
      "source": [
        "valors_unics = sorted(df_batx['Primera opció optativa'].dropna().unique())\n",
        "selector = widgets.SelectMultiple(\n",
        "    options=valors_unics,\n",
        "    description='Selecciona:',\n",
        "    layout=widgets.Layout(width='50%'),\n",
        "    style={'description_width': 'initial'})\n",
        "display(selector)\n",
        "boto = widgets.Button(description=\"Guardar selecció\")\n",
        "\n",
        "def on_button_clicked(b):\n",
        "    global seleccio_set_espec\n",
        "    seleccio_set_espec = set(selector.value)\n",
        "    print(f\"\\n✅ Valors seleccionats guardats\\n\")\n",
        "\n",
        "boto.on_click(on_button_clicked)\n",
        "display(boto)"
      ]
    },
    {
      "cell_type": "code",
      "execution_count": null,
      "metadata": {
        "id": "UCIfMDmcBKLX"
      },
      "outputs": [],
      "source": [
        "from IPython.display import display, Markdown\n",
        "\n",
        "display(Markdown(\"## ✅ **ASSIGNATURES ASSIGNADES:**\"))\n",
        "for opt in sorted(seleccio_set_espec):\n",
        "    display(Markdown(f\"- 🎓 **{opt}**\"))\n",
        "\n",
        "optatives = set(df_batx['Primera opció modalitat'].dropna().unique())\n",
        "display(Markdown(\"## ❌ **ASSIGNATURES NO ASSIGNADES:**\"))\n",
        "for opt in sorted(optatives-seleccio_set_espec):\n",
        "    display(Markdown(f\"- 🚫 **{opt}**\"))"
      ]
    },
    {
      "cell_type": "code",
      "execution_count": null,
      "metadata": {
        "id": "KbzBgOlHBKLX"
      },
      "outputs": [],
      "source": [
        "df_batx['Optativa Assignada 1'] = None\n",
        "\n",
        "value_counts_primera = df_batx['Primera opció optativa'].value_counts()\n",
        "index_vector = []\n",
        "optatives_no = set()\n",
        "for i in df_batx.index:\n",
        "    for opcio in ['Primera opció optativa', 'Segona opció optativa', 'Tercera opció optativa']:\n",
        "      opt = df_batx.at[i, opcio]\n",
        "      if opt in seleccio_set_espec:\n",
        "        if df_batx.at[i, 'Optativa Assignada 1'] is None:\n",
        "           df_batx.at[i, 'Optativa Assignada 1'] = opt\n",
        "    if df_batx.at[i, 'Optativa Assignada 1'] is None:\n",
        "        index_vector.append(i)\n",
        "print(\"Nombre d'alumnes sense assignar:\", len(index_vector))"
      ]
    },
    {
      "cell_type": "code",
      "execution_count": null,
      "metadata": {
        "id": "0ygX2ICVBKLY"
      },
      "outputs": [],
      "source": [
        "display(Markdown(\"## **ALUMNES AMB ALGUNA OPCIÓ SENSE ASSIGNAR (normalment la tercera):**\"))\n",
        "df_batx2 = df_batx.iloc[index_vector]\n",
        "df_batx2"
      ]
    },
    {
      "cell_type": "markdown",
      "metadata": {
        "id": "onmGTNtdBKLY"
      },
      "source": [
        "## RECOMPTE FINAL"
      ]
    },
    {
      "cell_type": "code",
      "execution_count": null,
      "metadata": {
        "id": "sgr5rcX2BKLZ"
      },
      "outputs": [],
      "source": [
        "b_counts1 = df_batx[\"Modalitat Assignada 1\"].value_counts()\n",
        "b_counts2= df_batx[\"Modalitat Assignada 2\"].value_counts()\n",
        "vc_total_suma = b_counts1.add(b_counts2, fill_value=0).astype(int)\n",
        "\n",
        "display(Markdown(f\"### 📊 **Comptador total _'d'Optatives de Modalitat'_**\"))\n",
        "display(Markdown(\"```\\n\" + str(vc_total_suma) + \"\\n```\"))\n",
        "\n",
        "opt_counts = df_batx[\"Optativa Assignada 1\"].value_counts()\n",
        "display(Markdown(f\"### 📊 **Comptador total _'d'Optatives de Específiques'_**\"))\n",
        "display(Markdown(\"```\\n\" + str(opt_counts) + \"\\n```\"))\n"
      ]
    },
    {
      "cell_type": "markdown",
      "metadata": {
        "id": "0UblpAMIBKLZ"
      },
      "source": [
        "DESCARREGAR"
      ]
    },
    {
      "cell_type": "code",
      "execution_count": null,
      "metadata": {
        "id": "Vr6MbFYVBKLZ"
      },
      "outputs": [],
      "source": [
        "df_segon.to_csv(\"Assignació_2n_batx.csv\", index=False)\n",
        "files.download(\"Assignació_2n_batx.csv\")"
      ]
    },
    {
      "cell_type": "markdown",
      "metadata": {
        "id": "YgZqcr-SR5ao"
      },
      "source": [
        "## **ASSIGNACIÓ DELS BLOCS DE SEGON DE BATXILLERAT**\n",
        "\n",
        "Funcions, no s'ha de fer res (executar)."
      ]
    },
    {
      "cell_type": "code",
      "source": [
        "import time\n",
        "from typing import Set, FrozenSet\n",
        "from itertools import combinations\n",
        "from IPython.display import Markdown, display\n",
        "import re\n",
        "from collections import defaultdict\n",
        "from itertools import combinations\n",
        "import itertools\n",
        "import ipywidgets as widgets\n",
        "from IPython.display import display, clear_output\n",
        "print(\"Ignorar aquest missatge\")\n",
        "df_curt = df_batx[['Modalitat Assignada 1', 'Modalitat Assignada 2', 'Optativa Assignada 1']]\n",
        "df_batx['Optatives Assignades'] = df_curt.apply(\n",
        "    lambda row: set([row['Modalitat Assignada 1'], row['Modalitat Assignada 2'], row['Optativa Assignada 1']]),\n",
        "    axis=1\n",
        ")\n",
        "def genera_grups(seleccio_set, nombre_grups):\n",
        "  grups = []\n",
        "  for grup in seleccio_set:\n",
        "    for i in range(nombre_grups[grup]):\n",
        "      grups.append(f\"{grup}_{i+1}\")\n",
        "  return grups\n",
        "\n",
        "\n",
        "import ipywidgets as widgets\n",
        "from IPython.display import display, clear_output, Markdown\n",
        "\n",
        "# Inicialització de diccionaris\n",
        "nombre_grups: dict[str, int] = dict()\n",
        "nombre_alumnes: dict[str, int] = dict()\n",
        "\n",
        "# Claus amb noms llargs\n",
        "\n",
        "opcions = sorted(list(seleccio_set_espec|seleccio_set_mod))\n",
        "\n",
        "# Diccionaris de widgets\n",
        "grup_widgets = {}\n",
        "alumne_widgets = {}\n",
        "linies_widgets = []\n",
        "\n",
        "# Crear la graella de widgets\n",
        "for clau in opcions:\n",
        "    # Label amb estil per fer wrap\n",
        "    label = widgets.HTML(\n",
        "        value=f\"<div style='width: 500px; white-space: normal;'>{clau}</div>\"\n",
        "    )\n",
        "\n",
        "    alumne_input = widgets.BoundedIntText(\n",
        "        value=20, min=1, max=100, description='Alumnes'\n",
        "    )\n",
        "    grup_input = widgets.BoundedIntText(\n",
        "        value=1, min=1, max=10, description='Grups'\n",
        "    )\n",
        "\n",
        "    alumne_widgets[clau] = alumne_input\n",
        "    grup_widgets[clau] = grup_input\n",
        "\n",
        "    fila = widgets.HBox([label, alumne_input, grup_input])\n",
        "    linies_widgets.append(fila)\n",
        "\n",
        "# Botó per guardar\n",
        "boto = widgets.Button(description=\"Guardar tot\", button_style='success')\n",
        "sortida = widgets.Output()\n",
        "\n",
        "# Acció quan es clica el botó\n",
        "def on_boto_click(b):\n",
        "    nombre_alumnes.clear()\n",
        "    nombre_grups.clear()\n",
        "    for clau in opcions:\n",
        "        nom_assignatura = clau.split(' [')[0]\n",
        "        nombre_alumnes[nom_assignatura] = alumne_widgets[clau].value\n",
        "        nombre_grups[nom_assignatura] = grup_widgets[clau].value\n",
        "\n",
        "    with sortida:\n",
        "        clear_output()\n",
        "        display(Markdown(\"## ✅ Valors guardats! ✅\"))\n",
        "\n",
        "import ipywidgets as widgets\n",
        "from IPython.display import display, clear_output, Markdown\n",
        "\n",
        "def base(nom): return nom.split('_')[0]\n",
        "from itertools import permutations\n",
        "from copy import deepcopy\n",
        "\n",
        "def has_valid_assignment(opts, blocs, blocs_counts, max_per_opcio):\n",
        "    opts_list = list(opts)\n",
        "    best_perm = None\n",
        "    best_score = float('inf')\n",
        "\n",
        "    for perm in permutations(opts_list):\n",
        "        temp_counts = {bloc: dict(blocs_counts[bloc]) for bloc in blocs_counts}\n",
        "        valid = True\n",
        "\n",
        "        for bloc_idx, opt in enumerate(perm, 1):\n",
        "            temp_counts[bloc_idx][opt] = temp_counts[bloc_idx].get(opt, 0) + 1\n",
        "\n",
        "            if temp_counts[bloc_idx][opt] > max_per_opcio.get(opt, float('inf')):\n",
        "                valid = False\n",
        "                break\n",
        "\n",
        "        if valid and all(opt in bloc for opt, bloc in zip(perm, blocs)):\n",
        "            # Calculem una mètrica de \"repartiment\"\n",
        "            score = max(\n",
        "                max(temp_counts[bloc].values(), default=0)\n",
        "                for bloc in temp_counts\n",
        "            )\n",
        "            if score < best_score:\n",
        "                best_score = score\n",
        "                best_perm = perm\n",
        "\n",
        "    return (best_perm is not None), best_perm\n",
        "\n",
        "\n",
        "def son_blocs_valid_simple(bloc1, bloc2, bloc3, max_per_opcio, assigna=False):\n",
        "    blocs_sets = [set(base(x) for x in bloc if x is not None) for bloc in (bloc1, bloc2, bloc3)]\n",
        "    blocs_counts = {1: {}, 2: {}, 3: {}}\n",
        "    if assigna:\n",
        "      df_batx['Assignatura Bloc 1'] = None\n",
        "      df_batx['Assignatura Bloc 2'] = None\n",
        "      df_batx['Assignatura Bloc 3'] = None\n",
        "    for i in df_batx.index:\n",
        "        opts = {opt for opt in df_batx.at[i, 'Optatives Assignades'] if opt is not None}\n",
        "        if len(opts) != 3:\n",
        "            continue\n",
        "        if not all(opts & bloc for bloc in blocs_sets):\n",
        "            display(Markdown(\n",
        "                f\"**No hi ha una optativa a cada bloc per aquest alumne:**\\n\\n\"\n",
        "                f\"- Optatives possibles: `{', '.join(sorted(opts))}`\"\n",
        "            ))\n",
        "            return False, blocs_counts\n",
        "        possible, perm = has_valid_assignment(opts, blocs_sets, blocs_counts, max_per_opcio)\n",
        "        if not possible:\n",
        "            display(Markdown(\n",
        "                f\"**No hi ha una assignació vàlida per aquest alumne:**\\n\\n\"\n",
        "                f\"- Optatives possibles: `{', '.join(sorted(opts))}`\"\n",
        "            ))\n",
        "            return False, blocs_counts\n",
        "\n",
        "        # Actualitzar comptadors amb la permutació assignada\n",
        "        for bloc_idx, opt in enumerate(perm, 1):\n",
        "            blocs_counts[bloc_idx][opt] = blocs_counts[bloc_idx].get(opt, 0) + 1\n",
        "            if assigna:\n",
        "              nom = f'Assignatura Bloc {bloc_idx}'\n",
        "              df_batx.at[i, nom] = opt\n",
        "\n",
        "\n",
        "    if assigna:\n",
        "      display(Markdown(\"**Assignació guardada! Descarrega el full de càlcul**\"))\n",
        "    else:\n",
        "      display(Markdown(\"**Aquesta assignació de blocs és vàlida!**\"))\n",
        "    return True, blocs_counts\n",
        "\n",
        "def update_selector():\n",
        "    used = set().union(*classified.values())\n",
        "    string_selector.options = [s for s in strings if s not in used]\n",
        "\n",
        "def update_element_to_move():\n",
        "    all_classified = [(f\"{s} (Bloc {bloc})\", (s, bloc)) for bloc in sorted(classified) for s in sorted(classified[bloc])]\n",
        "    if all_classified:\n",
        "        all_classified.sort(key=lambda x: x[0])\n",
        "        options, values = zip(*all_classified)\n",
        "        element_to_move.options = options\n",
        "        element_to_move._values = values\n",
        "        element_to_move.disabled = False\n",
        "        move_button.disabled = False\n",
        "    else:\n",
        "        element_to_move.options = []\n",
        "        element_to_move.disabled = True\n",
        "        move_button.disabled = True\n",
        "\n",
        "def mostrar_classificacio():\n",
        "    blocs = {k: sorted(classified.get(k, [])) for k in sorted(classified)}\n",
        "    max_files = max(len(blocs[1]), len(blocs[2]), len(blocs[3]))\n",
        "    for k in blocs: blocs[k] += [''] * (max_files - len(blocs[k]))\n",
        "    markdown_output = \"### 📂 Classificació actual:\\n<table><thead><tr><th>Bloc 1</th><th>Bloc 2</th><th>Bloc 3</th></tr></thead><tbody>\\n\"\n",
        "    for i in range(max_files): markdown_output += f\"<tr><td>{blocs[1][i]}</td><td>{blocs[2][i]}</td><td>{blocs[3][i]}</td></tr>\\n\"\n",
        "    markdown_output += \"</tbody></table>\"\n",
        "    with output:\n",
        "        clear_output()\n",
        "        display(Markdown(markdown_output))\n",
        "\n",
        "def classify_strings(b):\n",
        "    selected_strings = string_selector.value\n",
        "    selected_block = block_selector.value\n",
        "    with output:\n",
        "        clear_output()\n",
        "        if not selected_strings:\n",
        "            display(Markdown(\"⚠️ **No has seleccionat cap string.**\"))\n",
        "            return\n",
        "        for s in selected_strings: classified[selected_block].add(s)\n",
        "        update_selector()\n",
        "        update_element_to_move()\n",
        "        mostrar_classificacio()\n",
        "\n",
        "def move_element(b):\n",
        "    with output:\n",
        "        clear_output()\n",
        "        if not element_to_move.value:\n",
        "            display(Markdown(\"⚠️ **No has seleccionat cap element per moure.**\"))\n",
        "            return\n",
        "        idx = element_to_move.index\n",
        "        s, bloc_actual = element_to_move._values[idx]\n",
        "        nou_bloc = new_block_selector.value\n",
        "        if bloc_actual == nou_bloc:\n",
        "            display(Markdown(f\"⚠️ **L'element ja està al Bloc {nou_bloc}.**\"))\n",
        "            return\n",
        "        classified[bloc_actual].remove(s)\n",
        "        classified[nou_bloc].add(s)\n",
        "        update_selector()\n",
        "        update_element_to_move()\n",
        "        mostrar_classificacio()\n"
      ],
      "metadata": {
        "id": "Iyve8GxaR5aq"
      },
      "execution_count": null,
      "outputs": []
    },
    {
      "cell_type": "markdown",
      "source": [
        "### Indica quants alumnes per classe hi pot haver a la vegada com a màxim per a cada assignatura.\n",
        "Això defineix quants grups diferents de cada assignatura hi haurà"
      ],
      "metadata": {
        "id": "AtC7OWYpR5at"
      }
    },
    {
      "cell_type": "code",
      "source": [
        "boto.on_click(on_boto_click)\n",
        "display(widgets.VBox(linies_widgets + [boto, sortida]))"
      ],
      "metadata": {
        "id": "Q7k5r4DeR5au"
      },
      "execution_count": null,
      "outputs": []
    },
    {
      "cell_type": "markdown",
      "source": [
        "Nombre de grups per assignatura"
      ],
      "metadata": {
        "id": "MewRM3x9R5av"
      }
    },
    {
      "cell_type": "code",
      "source": [
        "for grup in sorted(nombre_grups):\n",
        "    print(f\"Nombre de Grups de {grup} → {nombre_grups[grup]}\")\n",
        "\n",
        "materies = genera_grups(seleccio_set_espec|seleccio_set_mod, nombre_grups)"
      ],
      "metadata": {
        "id": "7Xh4KMLfR5av"
      },
      "execution_count": null,
      "outputs": []
    },
    {
      "cell_type": "markdown",
      "source": [
        "\n",
        "### Construeix els blocs\n",
        "\n",
        "Tria quins blocs vols mirar si són compatibles i vés canviant l'assignació fins aconseguir resultats vàlids."
      ],
      "metadata": {
        "id": "BougUikQR5aw"
      }
    },
    {
      "cell_type": "code",
      "source": [
        "strings = materies\n",
        "classified = {1: set(), 2: set(), 3:set()}\n",
        "string_selector = widgets.SelectMultiple(options=strings, description='Matèries:', rows=6, layout=widgets.Layout(width='500px', height='450px'))\n",
        "block_selector = widgets.RadioButtons(options=[1, 2, 3], description='Bloc:', layout=widgets.Layout(width='150px'))\n",
        "add_button = widgets.Button(description=\"Classifica\", button_style='success')\n",
        "element_to_move = widgets.Dropdown(options=[], description='Element:', layout=widgets.Layout(width='400px'))\n",
        "new_block_selector = widgets.RadioButtons(options=[1, 2, 3], description='Nou bloc:', layout=widgets.Layout(width='150px'))\n",
        "move_button = widgets.Button(description=\"Mou element\", button_style='info')\n",
        "output = widgets.Output()\n",
        "\n",
        "add_button.on_click(classify_strings)\n",
        "move_button.on_click(move_element)\n",
        "update_selector()\n",
        "update_element_to_move()\n",
        "mostrar_classificacio()\n",
        "assignar_box = widgets.VBox([string_selector, block_selector, add_button])\n",
        "moure_box = widgets.VBox([element_to_move, new_block_selector, move_button])\n",
        "principal = widgets.HBox([assignar_box, moure_box])\n",
        "display(principal, output)"
      ],
      "metadata": {
        "id": "TkGhc2a5R5ax"
      },
      "execution_count": null,
      "outputs": []
    },
    {
      "cell_type": "markdown",
      "source": [
        "### Valida els blocs\n",
        "Si no són vàlids, apareixerà la combinació d'assignatures assignades que ho provoquen, sinó sortirà que és una partició de blocs correcta."
      ],
      "metadata": {
        "id": "_DmxtflNR5ay"
      }
    },
    {
      "cell_type": "code",
      "source": [
        "fet, blocs_counts = son_blocs_valid_simple(classified[1], classified[2], classified[3], nombre_alumnes)"
      ],
      "metadata": {
        "id": "hO0KafdeR5az"
      },
      "execution_count": null,
      "outputs": []
    },
    {
      "cell_type": "code",
      "source": [
        "from IPython.display import Markdown, display\n",
        "\n",
        "markdown = \"---\\n\"\n",
        "for bloc_id in sorted(blocs_counts):\n",
        "    markdown += f\"\\n### 📚 Bloc {bloc_id}\\n\"\n",
        "    markdown += \"| Assignatura                                               | Nombre d'alumnes |\\n\"\n",
        "    markdown += \"|-----------------------------------------------------------|-----------|\\n\"\n",
        "    for assignatura in sorted(blocs_counts[bloc_id]):\n",
        "        comptador = blocs_counts[bloc_id][assignatura]\n",
        "        markdown += f\"| {assignatura:<59} | {comptador:>9} |\\n\"\n",
        "markdown += \"\\n---\"\n",
        "\n",
        "display(Markdown(markdown))\n"
      ],
      "metadata": {
        "id": "9hqbW07SR5az"
      },
      "execution_count": null,
      "outputs": []
    },
    {
      "cell_type": "markdown",
      "source": [
        "### Guarda el resultat\n",
        "Per cada alumne, se li assigna quina assignatura de quin bloc li toca, i es poden veure el nombre d'alumnes per bloc."
      ],
      "metadata": {
        "id": "S7ndgYfHR5a0"
      }
    },
    {
      "cell_type": "code",
      "source": [
        "fet, blocs_counts = son_blocs_valid_simple(classified[1], classified[2], classified[3], nombre_alumnes, assigna=True)"
      ],
      "metadata": {
        "id": "3S03YNK4R5a0"
      },
      "execution_count": null,
      "outputs": []
    },
    {
      "cell_type": "markdown",
      "source": [
        "### DESCARREGAR"
      ],
      "metadata": {
        "id": "vPy8SkypR5a0"
      }
    },
    {
      "cell_type": "code",
      "source": [
        "df_tercer.to_csv(\"Assignació_segon_batx_blocs.csv\", index=False)\n",
        "files.download(\"Assignació_segon_batx_blocs.csv\")"
      ],
      "metadata": {
        "id": "kf_Lx7wXR5a1"
      },
      "execution_count": null,
      "outputs": []
    }
  ],
  "metadata": {
    "colab": {
      "provenance": []
    },
    "kernelspec": {
      "display_name": "Python 3",
      "name": "python3"
    },
    "language_info": {
      "name": "python"
    }
  },
  "nbformat": 4,
  "nbformat_minor": 0
}